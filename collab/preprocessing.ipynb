{
 "cells": [
  {
   "cell_type": "code",
   "execution_count": 6,
   "id": "035ed915",
   "metadata": {},
   "outputs": [],
   "source": [
    "import pandas as pd"
   ]
  },
  {
   "cell_type": "markdown",
   "id": "a318d07f",
   "metadata": {},
   "source": [
    "# Data Preprocessing Internal Data"
   ]
  },
  {
   "cell_type": "code",
   "execution_count": 2,
   "id": "6f8b6b4d",
   "metadata": {},
   "outputs": [
    {
     "name": "stdout",
     "output_type": "stream",
     "text": [
      "Requirement already satisfied: statsmodels in /Users/user/Documents/Freelance/garuda/smartWarehouse/.conda/lib/python3.11/site-packages (0.14.5)\n",
      "Requirement already satisfied: pmdarima in /Users/user/Documents/Freelance/garuda/smartWarehouse/.conda/lib/python3.11/site-packages (2.0.4)\n",
      "Requirement already satisfied: prophet in /Users/user/Documents/Freelance/garuda/smartWarehouse/.conda/lib/python3.11/site-packages (1.1.7)\n",
      "Requirement already satisfied: numpy<3,>=1.22.3 in /Users/user/Documents/Freelance/garuda/smartWarehouse/.conda/lib/python3.11/site-packages (from statsmodels) (1.24.4)\n",
      "Requirement already satisfied: scipy!=1.9.2,>=1.8 in /Users/user/Documents/Freelance/garuda/smartWarehouse/.conda/lib/python3.11/site-packages (from statsmodels) (1.15.3)\n",
      "Requirement already satisfied: pandas!=2.1.0,>=1.4 in /Users/user/Documents/Freelance/garuda/smartWarehouse/.conda/lib/python3.11/site-packages (from statsmodels) (2.3.1)\n",
      "Requirement already satisfied: patsy>=0.5.6 in /Users/user/Documents/Freelance/garuda/smartWarehouse/.conda/lib/python3.11/site-packages (from statsmodels) (1.0.1)\n",
      "Requirement already satisfied: packaging>=21.3 in /Users/user/Documents/Freelance/garuda/smartWarehouse/.conda/lib/python3.11/site-packages (from statsmodels) (25.0)\n",
      "Requirement already satisfied: joblib>=0.11 in /Users/user/Documents/Freelance/garuda/smartWarehouse/.conda/lib/python3.11/site-packages (from pmdarima) (1.5.1)\n",
      "Requirement already satisfied: Cython!=0.29.18,!=0.29.31,>=0.29 in /Users/user/Documents/Freelance/garuda/smartWarehouse/.conda/lib/python3.11/site-packages (from pmdarima) (3.1.2)\n",
      "Requirement already satisfied: scikit-learn>=0.22 in /Users/user/Documents/Freelance/garuda/smartWarehouse/.conda/lib/python3.11/site-packages (from pmdarima) (1.7.1)\n",
      "Requirement already satisfied: urllib3 in /Users/user/Documents/Freelance/garuda/smartWarehouse/.conda/lib/python3.11/site-packages (from pmdarima) (2.5.0)\n",
      "Requirement already satisfied: setuptools!=50.0.0,>=38.6.0 in /Users/user/Documents/Freelance/garuda/smartWarehouse/.conda/lib/python3.11/site-packages (from pmdarima) (80.9.0)\n",
      "Requirement already satisfied: cmdstanpy>=1.0.4 in /Users/user/Documents/Freelance/garuda/smartWarehouse/.conda/lib/python3.11/site-packages (from prophet) (1.2.5)\n",
      "Requirement already satisfied: matplotlib>=2.0.0 in /Users/user/Documents/Freelance/garuda/smartWarehouse/.conda/lib/python3.11/site-packages (from prophet) (3.10.3)\n",
      "Requirement already satisfied: holidays<1,>=0.25 in /Users/user/Documents/Freelance/garuda/smartWarehouse/.conda/lib/python3.11/site-packages (from prophet) (0.77)\n",
      "Requirement already satisfied: tqdm>=4.36.1 in /Users/user/Documents/Freelance/garuda/smartWarehouse/.conda/lib/python3.11/site-packages (from prophet) (4.67.1)\n",
      "Requirement already satisfied: importlib_resources in /Users/user/Documents/Freelance/garuda/smartWarehouse/.conda/lib/python3.11/site-packages (from prophet) (6.5.2)\n",
      "Requirement already satisfied: python-dateutil in /Users/user/Documents/Freelance/garuda/smartWarehouse/.conda/lib/python3.11/site-packages (from holidays<1,>=0.25->prophet) (2.9.0.post0)\n",
      "Requirement already satisfied: stanio<2.0.0,>=0.4.0 in /Users/user/Documents/Freelance/garuda/smartWarehouse/.conda/lib/python3.11/site-packages (from cmdstanpy>=1.0.4->prophet) (0.5.1)\n",
      "Requirement already satisfied: contourpy>=1.0.1 in /Users/user/Documents/Freelance/garuda/smartWarehouse/.conda/lib/python3.11/site-packages (from matplotlib>=2.0.0->prophet) (1.3.2)\n",
      "Requirement already satisfied: cycler>=0.10 in /Users/user/Documents/Freelance/garuda/smartWarehouse/.conda/lib/python3.11/site-packages (from matplotlib>=2.0.0->prophet) (0.12.1)\n",
      "Requirement already satisfied: fonttools>=4.22.0 in /Users/user/Documents/Freelance/garuda/smartWarehouse/.conda/lib/python3.11/site-packages (from matplotlib>=2.0.0->prophet) (4.59.0)\n",
      "Requirement already satisfied: kiwisolver>=1.3.1 in /Users/user/Documents/Freelance/garuda/smartWarehouse/.conda/lib/python3.11/site-packages (from matplotlib>=2.0.0->prophet) (1.4.8)\n",
      "Requirement already satisfied: pillow>=8 in /Users/user/Documents/Freelance/garuda/smartWarehouse/.conda/lib/python3.11/site-packages (from matplotlib>=2.0.0->prophet) (11.3.0)\n",
      "Requirement already satisfied: pyparsing>=2.3.1 in /Users/user/Documents/Freelance/garuda/smartWarehouse/.conda/lib/python3.11/site-packages (from matplotlib>=2.0.0->prophet) (3.2.3)\n",
      "Requirement already satisfied: pytz>=2020.1 in /Users/user/Documents/Freelance/garuda/smartWarehouse/.conda/lib/python3.11/site-packages (from pandas!=2.1.0,>=1.4->statsmodels) (2025.2)\n",
      "Requirement already satisfied: tzdata>=2022.7 in /Users/user/Documents/Freelance/garuda/smartWarehouse/.conda/lib/python3.11/site-packages (from pandas!=2.1.0,>=1.4->statsmodels) (2025.2)\n",
      "Requirement already satisfied: six>=1.5 in /Users/user/Documents/Freelance/garuda/smartWarehouse/.conda/lib/python3.11/site-packages (from python-dateutil->holidays<1,>=0.25->prophet) (1.17.0)\n",
      "Requirement already satisfied: threadpoolctl>=3.1.0 in /Users/user/Documents/Freelance/garuda/smartWarehouse/.conda/lib/python3.11/site-packages (from scikit-learn>=0.22->pmdarima) (3.6.0)\n"
     ]
    }
   ],
   "source": [
    "!pip install statsmodels pmdarima prophet"
   ]
  },
  {
   "cell_type": "code",
   "execution_count": 5,
   "id": "1d8b0141",
   "metadata": {},
   "outputs": [],
   "source": [
    "import warnings\n",
    "import itertools\n",
    "import numpy as np\n",
    "import matplotlib.pyplot as plt\n",
    "warnings.filterwarnings(\"ignore\")\n",
    "plt.style.use('fivethirtyeight')\n",
    "\n",
    "import pandas as pd\n",
    "pd.set_option('display.expand_frame_repr', False)\n",
    "pd.set_option('display.max_columns', 500)\n",
    "pd.set_option('display.width', 1000)\n",
    "\n",
    "import statsmodels.api as sm\n",
    "from statsmodels.graphics.tsaplots import plot_acf\n",
    "from statsmodels.graphics.tsaplots import plot_pacf\n",
    "from statsmodels.tsa.stattools import adfuller\n",
    "from statsmodels.tsa.seasonal import seasonal_decompose\n",
    "from statsmodels.tsa.ar_model import AR\n",
    "from statsmodels.tsa.arima_model import ARMA, ARIMA\n",
    "# from pmdarima.arima import auto_arima\n",
    "# from pmdarima import auto_arima\n",
    "from statsmodels.tsa.statespace.sarimax import SARIMAX\n",
    "# from fbprophet import Prophet\n",
    "\n",
    "from math import sqrt\n",
    "\n",
    "import matplotlib\n",
    "matplotlib.rcParams['axes.labelsize'] = 14\n",
    "matplotlib.rcParams['xtick.labelsize'] = 12\n",
    "matplotlib.rcParams['ytick.labelsize'] = 12\n",
    "matplotlib.rcParams['text.color'] = 'k'\n",
    "import seaborn as sns\n",
    "\n",
    "from random import random\n",
    "\n",
    "from sklearn.metrics import mean_squared_error, r2_score, mean_absolute_error, median_absolute_error, mean_squared_log_error\n"
   ]
  },
  {
   "cell_type": "code",
   "execution_count": 113,
   "id": "ef4ff657",
   "metadata": {},
   "outputs": [],
   "source": [
    "df = pd.read_csv('internal_data/data_707332.csv')\n",
    "\n",
    "# df\n",
    "\n",
    "# -6.983124, 110.409652\n",
    "\n",
    "# https://archive-api.open-meteo.com/v1/era5?latitude=52.52&longitude=13.41&start_date=2041-02-01&end_date=2025-06-01&daily=\"temperature_2m_max\", \"temperature_2m_min\""
   ]
  },
  {
   "cell_type": "code",
   "execution_count": 114,
   "id": "08127632",
   "metadata": {},
   "outputs": [
    {
     "data": {
      "text/html": [
       "<div>\n",
       "<style scoped>\n",
       "    .dataframe tbody tr th:only-of-type {\n",
       "        vertical-align: middle;\n",
       "    }\n",
       "\n",
       "    .dataframe tbody tr th {\n",
       "        vertical-align: top;\n",
       "    }\n",
       "\n",
       "    .dataframe thead th {\n",
       "        text-align: right;\n",
       "    }\n",
       "</style>\n",
       "<table border=\"1\" class=\"dataframe\">\n",
       "  <thead>\n",
       "    <tr style=\"text-align: right;\">\n",
       "      <th></th>\n",
       "      <th>id</th>\n",
       "      <th>outlet_id</th>\n",
       "      <th>settled_at</th>\n",
       "      <th>name</th>\n",
       "      <th>sku</th>\n",
       "      <th>quantity</th>\n",
       "      <th>unit_name</th>\n",
       "      <th>price_sell_unit</th>\n",
       "      <th>payment_mode</th>\n",
       "      <th>total_discount</th>\n",
       "      <th>total_collected</th>\n",
       "      <th>total_tax</th>\n",
       "      <th>total_gross</th>\n",
       "    </tr>\n",
       "  </thead>\n",
       "  <tbody>\n",
       "    <tr>\n",
       "      <th>0</th>\n",
       "      <td>601908266</td>\n",
       "      <td>740514</td>\n",
       "      <td>2024-02-29 19:13:12</td>\n",
       "      <td>MieNas</td>\n",
       "      <td>NaN</td>\n",
       "      <td>1.0</td>\n",
       "      <td>Pcs</td>\n",
       "      <td>20000.0</td>\n",
       "      <td>CASH</td>\n",
       "      <td>0.0</td>\n",
       "      <td>20000.0</td>\n",
       "      <td>0.0</td>\n",
       "      <td>20000.0</td>\n",
       "    </tr>\n",
       "    <tr>\n",
       "      <th>1</th>\n",
       "      <td>601908266</td>\n",
       "      <td>740514</td>\n",
       "      <td>2024-02-29 19:13:12</td>\n",
       "      <td>Nasi Goreng Oriental</td>\n",
       "      <td>NaN</td>\n",
       "      <td>1.0</td>\n",
       "      <td>Pcs</td>\n",
       "      <td>13000.0</td>\n",
       "      <td>CASH</td>\n",
       "      <td>0.0</td>\n",
       "      <td>13000.0</td>\n",
       "      <td>0.0</td>\n",
       "      <td>13000.0</td>\n",
       "    </tr>\n",
       "    <tr>\n",
       "      <th>2</th>\n",
       "      <td>601908266</td>\n",
       "      <td>740514</td>\n",
       "      <td>2024-02-29 19:13:12</td>\n",
       "      <td>Jeruk</td>\n",
       "      <td>NaN</td>\n",
       "      <td>1.0</td>\n",
       "      <td>Pcs</td>\n",
       "      <td>12000.0</td>\n",
       "      <td>CASH</td>\n",
       "      <td>0.0</td>\n",
       "      <td>12000.0</td>\n",
       "      <td>0.0</td>\n",
       "      <td>12000.0</td>\n",
       "    </tr>\n",
       "    <tr>\n",
       "      <th>3</th>\n",
       "      <td>601908266</td>\n",
       "      <td>740514</td>\n",
       "      <td>2024-02-29 19:13:12</td>\n",
       "      <td>Sop Buah</td>\n",
       "      <td>NaN</td>\n",
       "      <td>1.0</td>\n",
       "      <td>Pcs</td>\n",
       "      <td>17000.0</td>\n",
       "      <td>CASH</td>\n",
       "      <td>0.0</td>\n",
       "      <td>17000.0</td>\n",
       "      <td>0.0</td>\n",
       "      <td>17000.0</td>\n",
       "    </tr>\n",
       "    <tr>\n",
       "      <th>4</th>\n",
       "      <td>601907323</td>\n",
       "      <td>740514</td>\n",
       "      <td>2024-02-29 19:12:15</td>\n",
       "      <td>Ayam Penyet</td>\n",
       "      <td>NaN</td>\n",
       "      <td>3.0</td>\n",
       "      <td>Pcs</td>\n",
       "      <td>25000.0</td>\n",
       "      <td>CASH</td>\n",
       "      <td>0.0</td>\n",
       "      <td>75000.0</td>\n",
       "      <td>0.0</td>\n",
       "      <td>75000.0</td>\n",
       "    </tr>\n",
       "  </tbody>\n",
       "</table>\n",
       "</div>"
      ],
      "text/plain": [
       "          id  outlet_id           settled_at                  name  sku  quantity unit_name  price_sell_unit payment_mode  total_discount  total_collected  total_tax  total_gross\n",
       "0  601908266     740514  2024-02-29 19:13:12                MieNas  NaN       1.0       Pcs          20000.0         CASH             0.0          20000.0        0.0      20000.0\n",
       "1  601908266     740514  2024-02-29 19:13:12  Nasi Goreng Oriental  NaN       1.0       Pcs          13000.0         CASH             0.0          13000.0        0.0      13000.0\n",
       "2  601908266     740514  2024-02-29 19:13:12                 Jeruk  NaN       1.0       Pcs          12000.0         CASH             0.0          12000.0        0.0      12000.0\n",
       "3  601908266     740514  2024-02-29 19:13:12              Sop Buah  NaN       1.0       Pcs          17000.0         CASH             0.0          17000.0        0.0      17000.0\n",
       "4  601907323     740514  2024-02-29 19:12:15           Ayam Penyet  NaN       3.0       Pcs          25000.0         CASH             0.0          75000.0        0.0      75000.0"
      ]
     },
     "execution_count": 114,
     "metadata": {},
     "output_type": "execute_result"
    }
   ],
   "source": [
    "df.head()"
   ]
  },
  {
   "cell_type": "code",
   "execution_count": 115,
   "id": "44ec76b6",
   "metadata": {},
   "outputs": [
    {
     "data": {
      "text/plain": [
       "(21651048, 13)"
      ]
     },
     "execution_count": 115,
     "metadata": {},
     "output_type": "execute_result"
    }
   ],
   "source": [
    "df.shape"
   ]
  },
  {
   "cell_type": "code",
   "execution_count": 116,
   "id": "c642b7fb",
   "metadata": {},
   "outputs": [
    {
     "data": {
      "text/html": [
       "<div>\n",
       "<style scoped>\n",
       "    .dataframe tbody tr th:only-of-type {\n",
       "        vertical-align: middle;\n",
       "    }\n",
       "\n",
       "    .dataframe tbody tr th {\n",
       "        vertical-align: top;\n",
       "    }\n",
       "\n",
       "    .dataframe thead th {\n",
       "        text-align: right;\n",
       "    }\n",
       "</style>\n",
       "<table border=\"1\" class=\"dataframe\">\n",
       "  <thead>\n",
       "    <tr style=\"text-align: right;\">\n",
       "      <th></th>\n",
       "      <th>id</th>\n",
       "      <th>outlet_id</th>\n",
       "      <th>sku</th>\n",
       "      <th>quantity</th>\n",
       "      <th>price_sell_unit</th>\n",
       "      <th>total_discount</th>\n",
       "      <th>total_collected</th>\n",
       "      <th>total_tax</th>\n",
       "      <th>total_gross</th>\n",
       "    </tr>\n",
       "  </thead>\n",
       "  <tbody>\n",
       "    <tr>\n",
       "      <th>count</th>\n",
       "      <td>2.165105e+07</td>\n",
       "      <td>21651048.0</td>\n",
       "      <td>0.0</td>\n",
       "      <td>2.165105e+07</td>\n",
       "      <td>2.165105e+07</td>\n",
       "      <td>21651048.0</td>\n",
       "      <td>2.165105e+07</td>\n",
       "      <td>2.165105e+07</td>\n",
       "      <td>2.165105e+07</td>\n",
       "    </tr>\n",
       "    <tr>\n",
       "      <th>mean</th>\n",
       "      <td>7.013087e+08</td>\n",
       "      <td>740514.0</td>\n",
       "      <td>NaN</td>\n",
       "      <td>1.670496e+00</td>\n",
       "      <td>1.416418e+04</td>\n",
       "      <td>0.0</td>\n",
       "      <td>2.281375e+04</td>\n",
       "      <td>6.151670e+01</td>\n",
       "      <td>2.287526e+04</td>\n",
       "    </tr>\n",
       "    <tr>\n",
       "      <th>std</th>\n",
       "      <td>8.504971e+07</td>\n",
       "      <td>0.0</td>\n",
       "      <td>NaN</td>\n",
       "      <td>3.108776e+00</td>\n",
       "      <td>1.149599e+04</td>\n",
       "      <td>0.0</td>\n",
       "      <td>3.449838e+04</td>\n",
       "      <td>3.997916e+02</td>\n",
       "      <td>3.450744e+04</td>\n",
       "    </tr>\n",
       "    <tr>\n",
       "      <th>min</th>\n",
       "      <td>6.018361e+08</td>\n",
       "      <td>740514.0</td>\n",
       "      <td>NaN</td>\n",
       "      <td>0.000000e+00</td>\n",
       "      <td>1.000000e+03</td>\n",
       "      <td>0.0</td>\n",
       "      <td>0.000000e+00</td>\n",
       "      <td>0.000000e+00</td>\n",
       "      <td>0.000000e+00</td>\n",
       "    </tr>\n",
       "    <tr>\n",
       "      <th>25%</th>\n",
       "      <td>6.283614e+08</td>\n",
       "      <td>740514.0</td>\n",
       "      <td>NaN</td>\n",
       "      <td>1.000000e+00</td>\n",
       "      <td>1.000000e+04</td>\n",
       "      <td>0.0</td>\n",
       "      <td>1.200000e+04</td>\n",
       "      <td>0.000000e+00</td>\n",
       "      <td>1.200000e+04</td>\n",
       "    </tr>\n",
       "    <tr>\n",
       "      <th>50%</th>\n",
       "      <td>6.521308e+08</td>\n",
       "      <td>740514.0</td>\n",
       "      <td>NaN</td>\n",
       "      <td>1.000000e+00</td>\n",
       "      <td>1.300000e+04</td>\n",
       "      <td>0.0</td>\n",
       "      <td>1.500000e+04</td>\n",
       "      <td>0.000000e+00</td>\n",
       "      <td>1.500000e+04</td>\n",
       "    </tr>\n",
       "    <tr>\n",
       "      <th>75%</th>\n",
       "      <td>8.003212e+08</td>\n",
       "      <td>740514.0</td>\n",
       "      <td>NaN</td>\n",
       "      <td>2.000000e+00</td>\n",
       "      <td>1.500000e+04</td>\n",
       "      <td>0.0</td>\n",
       "      <td>2.500000e+04</td>\n",
       "      <td>0.000000e+00</td>\n",
       "      <td>2.500000e+04</td>\n",
       "    </tr>\n",
       "    <tr>\n",
       "      <th>max</th>\n",
       "      <td>8.217413e+08</td>\n",
       "      <td>740514.0</td>\n",
       "      <td>NaN</td>\n",
       "      <td>5.700000e+02</td>\n",
       "      <td>2.705000e+06</td>\n",
       "      <td>0.0</td>\n",
       "      <td>2.850000e+06</td>\n",
       "      <td>1.610000e+04</td>\n",
       "      <td>2.850000e+06</td>\n",
       "    </tr>\n",
       "  </tbody>\n",
       "</table>\n",
       "</div>"
      ],
      "text/plain": [
       "                 id   outlet_id  sku      quantity  price_sell_unit  total_discount  total_collected     total_tax   total_gross\n",
       "count  2.165105e+07  21651048.0  0.0  2.165105e+07     2.165105e+07      21651048.0     2.165105e+07  2.165105e+07  2.165105e+07\n",
       "mean   7.013087e+08    740514.0  NaN  1.670496e+00     1.416418e+04             0.0     2.281375e+04  6.151670e+01  2.287526e+04\n",
       "std    8.504971e+07         0.0  NaN  3.108776e+00     1.149599e+04             0.0     3.449838e+04  3.997916e+02  3.450744e+04\n",
       "min    6.018361e+08    740514.0  NaN  0.000000e+00     1.000000e+03             0.0     0.000000e+00  0.000000e+00  0.000000e+00\n",
       "25%    6.283614e+08    740514.0  NaN  1.000000e+00     1.000000e+04             0.0     1.200000e+04  0.000000e+00  1.200000e+04\n",
       "50%    6.521308e+08    740514.0  NaN  1.000000e+00     1.300000e+04             0.0     1.500000e+04  0.000000e+00  1.500000e+04\n",
       "75%    8.003212e+08    740514.0  NaN  2.000000e+00     1.500000e+04             0.0     2.500000e+04  0.000000e+00  2.500000e+04\n",
       "max    8.217413e+08    740514.0  NaN  5.700000e+02     2.705000e+06             0.0     2.850000e+06  1.610000e+04  2.850000e+06"
      ]
     },
     "execution_count": 116,
     "metadata": {},
     "output_type": "execute_result"
    }
   ],
   "source": [
    "df.describe()"
   ]
  },
  {
   "cell_type": "code",
   "execution_count": 87,
   "id": "f800a990",
   "metadata": {},
   "outputs": [
    {
     "data": {
      "text/plain": [
       "id                        0\n",
       "outlet_id                 0\n",
       "settled_at                0\n",
       "name                      0\n",
       "sku                37343517\n",
       "quantity                  0\n",
       "unit_name                 0\n",
       "price_sell_unit           0\n",
       "payment_mode              0\n",
       "total_discount            0\n",
       "total_collected           0\n",
       "total_tax                 0\n",
       "total_gross               0\n",
       "dtype: int64"
      ]
     },
     "execution_count": 87,
     "metadata": {},
     "output_type": "execute_result"
    }
   ],
   "source": [
    "# Check null values\n",
    "df.isnull().sum()"
   ]
  },
  {
   "cell_type": "code",
   "execution_count": 88,
   "id": "187188c2",
   "metadata": {},
   "outputs": [
    {
     "data": {
      "text/plain": [
       "id                   int64\n",
       "outlet_id            int64\n",
       "settled_at          object\n",
       "name                object\n",
       "sku                float64\n",
       "quantity           float64\n",
       "unit_name           object\n",
       "price_sell_unit    float64\n",
       "payment_mode        object\n",
       "total_discount     float64\n",
       "total_collected    float64\n",
       "total_tax          float64\n",
       "total_gross        float64\n",
       "dtype: object"
      ]
     },
     "execution_count": 88,
     "metadata": {},
     "output_type": "execute_result"
    }
   ],
   "source": [
    "df.dtypes"
   ]
  },
  {
   "cell_type": "code",
   "execution_count": 89,
   "id": "57a17bb1",
   "metadata": {},
   "outputs": [
    {
     "data": {
      "text/plain": [
       "Index(['id', 'outlet_id', 'settled_at', 'name', 'sku', 'quantity', 'unit_name', 'price_sell_unit', 'payment_mode', 'total_discount', 'total_collected', 'total_tax', 'total_gross'], dtype='object')"
      ]
     },
     "execution_count": 89,
     "metadata": {},
     "output_type": "execute_result"
    }
   ],
   "source": [
    "df.columns"
   ]
  },
  {
   "cell_type": "code",
   "execution_count": 117,
   "id": "fbf3b98b",
   "metadata": {},
   "outputs": [
    {
     "name": "stdout",
     "output_type": "stream",
     "text": [
      "0   2024-02-29 19:13:12\n",
      "1   2024-02-29 19:13:12\n",
      "2   2024-02-29 19:13:12\n",
      "3   2024-02-29 19:13:12\n",
      "4   2024-02-29 19:12:15\n",
      "Name: settled_at, dtype: datetime64[ns]\n",
      "datetime64[ns]\n"
     ]
    }
   ],
   "source": [
    "# Convert datetime format:\n",
    "df['settled_at'] = pd.to_datetime(df['settled_at'], format='%Y-%m-%d %H:%M:%S')\n",
    "\n",
    "print(df['settled_at'].head())\n",
    "print(df['settled_at'].dtype)"
   ]
  },
  {
   "cell_type": "code",
   "execution_count": 118,
   "id": "d733bd12",
   "metadata": {},
   "outputs": [],
   "source": [
    "# Setting index as the datetime column for easier manipulations:\n",
    "\n",
    "y = df.set_index('settled_at')"
   ]
  },
  {
   "cell_type": "code",
   "execution_count": 119,
   "id": "b2396d2f",
   "metadata": {},
   "outputs": [
    {
     "data": {
      "text/plain": [
       "DatetimeIndex(['2024-02-29 19:13:12', '2024-02-29 19:13:12', '2024-02-29 19:13:12', '2024-02-29 19:13:12', '2024-02-29 19:12:15', '2024-02-29 19:12:15', '2024-02-29 19:12:15', '2024-02-29 19:12:15', '2024-02-29 19:12:15', '2024-02-29 19:12:15',\n",
       "               ...\n",
       "               '2025-05-21 12:26:52', '2025-05-21 12:13:47', '2025-05-21 12:13:47', '2025-05-21 12:13:47', '2025-05-21 12:13:47', '2025-05-21 12:13:47', '2025-05-21 12:13:47', '2025-05-21 12:13:47', '2025-05-21 12:13:47', '2025-05-21 12:13:47'], dtype='datetime64[ns]', name='settled_at', length=21651048, freq=None)"
      ]
     },
     "execution_count": 119,
     "metadata": {},
     "output_type": "execute_result"
    }
   ],
   "source": [
    "y.index"
   ]
  },
  {
   "cell_type": "code",
   "execution_count": 120,
   "id": "9f56c1d0",
   "metadata": {},
   "outputs": [],
   "source": [
    "# y['quantity'].plot(figsize=(15, 6))\n",
    "\n",
    "# plt.title('Time Series Plot of Quantity')\n",
    "# plt.xlabel('Date and Time') \n",
    "# plt.ylabel('Quantity')\n",
    "\n",
    "# plt.grid(True) \n",
    "# plt.tight_layout() \n",
    "# plt.show()\n"
   ]
  },
  {
   "cell_type": "code",
   "execution_count": 121,
   "id": "9b7590b5",
   "metadata": {},
   "outputs": [],
   "source": [
    "# Drop column SKU\n",
    "df = df.drop(columns=['sku'])"
   ]
  },
  {
   "cell_type": "code",
   "execution_count": 122,
   "id": "c44674a6",
   "metadata": {},
   "outputs": [
    {
     "name": "stdout",
     "output_type": "stream",
     "text": [
      "id                      0\n",
      "outlet_id               0\n",
      "settled_at              0\n",
      "name               726831\n",
      "quantity                0\n",
      "unit_name          726831\n",
      "price_sell_unit         0\n",
      "payment_mode            0\n",
      "total_discount          0\n",
      "total_collected         0\n",
      "total_tax               0\n",
      "total_gross             0\n",
      "dtype: int64\n"
     ]
    }
   ],
   "source": [
    "print(df.isnull().sum())"
   ]
  },
  {
   "cell_type": "code",
   "execution_count": 96,
   "id": "b63cca33",
   "metadata": {},
   "outputs": [
    {
     "data": {
      "text/plain": [
       "(37343517, 12)"
      ]
     },
     "execution_count": 96,
     "metadata": {},
     "output_type": "execute_result"
    }
   ],
   "source": [
    "df.shape"
   ]
  },
  {
   "cell_type": "code",
   "execution_count": 123,
   "id": "b89ab427",
   "metadata": {},
   "outputs": [
    {
     "name": "stdout",
     "output_type": "stream",
     "text": [
      "id                 0\n",
      "outlet_id          0\n",
      "settled_at         0\n",
      "name               0\n",
      "quantity           0\n",
      "unit_name          0\n",
      "price_sell_unit    0\n",
      "payment_mode       0\n",
      "total_discount     0\n",
      "total_collected    0\n",
      "total_tax          0\n",
      "total_gross        0\n",
      "dtype: int64\n"
     ]
    }
   ],
   "source": [
    "# (726831 / 21651048) * 100% ≈ 3.36% itu relatif kecil jdi lbh baik dibuang...\n",
    "df_cleaned_name = df.dropna(subset=['name'])\n",
    "print(df_cleaned_name.isnull().sum())"
   ]
  },
  {
   "cell_type": "code",
   "execution_count": 124,
   "id": "c355a32b",
   "metadata": {},
   "outputs": [
    {
     "data": {
      "text/plain": [
       "236"
      ]
     },
     "execution_count": 124,
     "metadata": {},
     "output_type": "execute_result"
    }
   ],
   "source": [
    "df['name'].nunique()"
   ]
  },
  {
   "cell_type": "code",
   "execution_count": 125,
   "id": "e5efc3fa",
   "metadata": {},
   "outputs": [
    {
     "data": {
      "text/plain": [
       "id                          int64\n",
       "outlet_id                   int64\n",
       "settled_at         datetime64[ns]\n",
       "name                       object\n",
       "quantity                  float64\n",
       "unit_name                  object\n",
       "price_sell_unit           float64\n",
       "payment_mode               object\n",
       "total_discount            float64\n",
       "total_collected           float64\n",
       "total_tax                 float64\n",
       "total_gross               float64\n",
       "dtype: object"
      ]
     },
     "execution_count": 125,
     "metadata": {},
     "output_type": "execute_result"
    }
   ],
   "source": [
    "df_cleaned_name.dtypes"
   ]
  },
  {
   "cell_type": "code",
   "execution_count": 126,
   "id": "fb1dce8a",
   "metadata": {},
   "outputs": [
    {
     "data": {
      "text/html": [
       "<div>\n",
       "<style scoped>\n",
       "    .dataframe tbody tr th:only-of-type {\n",
       "        vertical-align: middle;\n",
       "    }\n",
       "\n",
       "    .dataframe tbody tr th {\n",
       "        vertical-align: top;\n",
       "    }\n",
       "\n",
       "    .dataframe thead th {\n",
       "        text-align: right;\n",
       "    }\n",
       "</style>\n",
       "<table border=\"1\" class=\"dataframe\">\n",
       "  <thead>\n",
       "    <tr style=\"text-align: right;\">\n",
       "      <th></th>\n",
       "      <th>id</th>\n",
       "      <th>outlet_id</th>\n",
       "      <th>settled_at</th>\n",
       "      <th>name</th>\n",
       "      <th>quantity</th>\n",
       "      <th>unit_name</th>\n",
       "      <th>price_sell_unit</th>\n",
       "      <th>payment_mode</th>\n",
       "      <th>total_discount</th>\n",
       "      <th>total_collected</th>\n",
       "      <th>total_tax</th>\n",
       "      <th>total_gross</th>\n",
       "    </tr>\n",
       "  </thead>\n",
       "  <tbody>\n",
       "    <tr>\n",
       "      <th>1</th>\n",
       "      <td>601908266</td>\n",
       "      <td>740514</td>\n",
       "      <td>2024-02-29 19:13:12</td>\n",
       "      <td>Nasi Goreng Oriental</td>\n",
       "      <td>1.0</td>\n",
       "      <td>Pcs</td>\n",
       "      <td>13000.0</td>\n",
       "      <td>CASH</td>\n",
       "      <td>0.0</td>\n",
       "      <td>13000.0</td>\n",
       "      <td>0.0</td>\n",
       "      <td>13000.0</td>\n",
       "    </tr>\n",
       "    <tr>\n",
       "      <th>13</th>\n",
       "      <td>601890655</td>\n",
       "      <td>740514</td>\n",
       "      <td>2024-02-29 18:48:27</td>\n",
       "      <td>Nasi Goreng Oriental</td>\n",
       "      <td>2.0</td>\n",
       "      <td>Pcs</td>\n",
       "      <td>13000.0</td>\n",
       "      <td>CASH</td>\n",
       "      <td>0.0</td>\n",
       "      <td>26000.0</td>\n",
       "      <td>0.0</td>\n",
       "      <td>26000.0</td>\n",
       "    </tr>\n",
       "    <tr>\n",
       "      <th>25</th>\n",
       "      <td>601888426</td>\n",
       "      <td>740514</td>\n",
       "      <td>2024-02-29 18:45:14</td>\n",
       "      <td>Nasi Goreng Oriental</td>\n",
       "      <td>2.0</td>\n",
       "      <td>Pcs</td>\n",
       "      <td>13000.0</td>\n",
       "      <td>CASH</td>\n",
       "      <td>0.0</td>\n",
       "      <td>26000.0</td>\n",
       "      <td>0.0</td>\n",
       "      <td>26000.0</td>\n",
       "    </tr>\n",
       "    <tr>\n",
       "      <th>44</th>\n",
       "      <td>601852024</td>\n",
       "      <td>740514</td>\n",
       "      <td>2024-02-29 17:50:00</td>\n",
       "      <td>Nasi Goreng Oriental</td>\n",
       "      <td>2.0</td>\n",
       "      <td>Pcs</td>\n",
       "      <td>13000.0</td>\n",
       "      <td>CASH</td>\n",
       "      <td>0.0</td>\n",
       "      <td>26000.0</td>\n",
       "      <td>0.0</td>\n",
       "      <td>26000.0</td>\n",
       "    </tr>\n",
       "    <tr>\n",
       "      <th>49</th>\n",
       "      <td>601850603</td>\n",
       "      <td>740514</td>\n",
       "      <td>2024-02-29 17:48:06</td>\n",
       "      <td>Nasi Goreng Oriental</td>\n",
       "      <td>1.0</td>\n",
       "      <td>Pcs</td>\n",
       "      <td>13000.0</td>\n",
       "      <td>CASH</td>\n",
       "      <td>0.0</td>\n",
       "      <td>13000.0</td>\n",
       "      <td>0.0</td>\n",
       "      <td>13000.0</td>\n",
       "    </tr>\n",
       "    <tr>\n",
       "      <th>...</th>\n",
       "      <td>...</td>\n",
       "      <td>...</td>\n",
       "      <td>...</td>\n",
       "      <td>...</td>\n",
       "      <td>...</td>\n",
       "      <td>...</td>\n",
       "      <td>...</td>\n",
       "      <td>...</td>\n",
       "      <td>...</td>\n",
       "      <td>...</td>\n",
       "      <td>...</td>\n",
       "      <td>...</td>\n",
       "    </tr>\n",
       "    <tr>\n",
       "      <th>21650830</th>\n",
       "      <td>821338152</td>\n",
       "      <td>740514</td>\n",
       "      <td>2025-05-20 16:24:02</td>\n",
       "      <td>Nasi Goreng Oriental</td>\n",
       "      <td>1.0</td>\n",
       "      <td>Pcs</td>\n",
       "      <td>15000.0</td>\n",
       "      <td>CASH</td>\n",
       "      <td>0.0</td>\n",
       "      <td>15000.0</td>\n",
       "      <td>0.0</td>\n",
       "      <td>15000.0</td>\n",
       "    </tr>\n",
       "    <tr>\n",
       "      <th>21650849</th>\n",
       "      <td>821320318</td>\n",
       "      <td>740514</td>\n",
       "      <td>2025-05-20 15:54:36</td>\n",
       "      <td>Nasi Goreng Oriental</td>\n",
       "      <td>1.0</td>\n",
       "      <td>Pcs</td>\n",
       "      <td>15000.0</td>\n",
       "      <td>CASH</td>\n",
       "      <td>0.0</td>\n",
       "      <td>15000.0</td>\n",
       "      <td>0.0</td>\n",
       "      <td>15000.0</td>\n",
       "    </tr>\n",
       "    <tr>\n",
       "      <th>21650865</th>\n",
       "      <td>821526016</td>\n",
       "      <td>740514</td>\n",
       "      <td>2025-05-20 21:44:41</td>\n",
       "      <td>Nasi Goreng Oriental</td>\n",
       "      <td>1.0</td>\n",
       "      <td>Pcs</td>\n",
       "      <td>15000.0</td>\n",
       "      <td>CASH</td>\n",
       "      <td>0.0</td>\n",
       "      <td>15000.0</td>\n",
       "      <td>0.0</td>\n",
       "      <td>15000.0</td>\n",
       "    </tr>\n",
       "    <tr>\n",
       "      <th>21650926</th>\n",
       "      <td>821521959</td>\n",
       "      <td>740514</td>\n",
       "      <td>2025-05-20 21:29:59</td>\n",
       "      <td>Nasi Goreng Oriental</td>\n",
       "      <td>2.0</td>\n",
       "      <td>Pcs</td>\n",
       "      <td>15000.0</td>\n",
       "      <td>CASH</td>\n",
       "      <td>0.0</td>\n",
       "      <td>30000.0</td>\n",
       "      <td>3000.0</td>\n",
       "      <td>33000.0</td>\n",
       "    </tr>\n",
       "    <tr>\n",
       "      <th>21650952</th>\n",
       "      <td>821472694</td>\n",
       "      <td>740514</td>\n",
       "      <td>2025-05-20 19:50:32</td>\n",
       "      <td>Nasi Goreng Oriental</td>\n",
       "      <td>2.0</td>\n",
       "      <td>Pcs</td>\n",
       "      <td>15000.0</td>\n",
       "      <td>CASH</td>\n",
       "      <td>0.0</td>\n",
       "      <td>30000.0</td>\n",
       "      <td>0.0</td>\n",
       "      <td>30000.0</td>\n",
       "    </tr>\n",
       "  </tbody>\n",
       "</table>\n",
       "<p>554523 rows × 12 columns</p>\n",
       "</div>"
      ],
      "text/plain": [
       "                 id  outlet_id          settled_at                  name  quantity unit_name  price_sell_unit payment_mode  total_discount  total_collected  total_tax  total_gross\n",
       "1         601908266     740514 2024-02-29 19:13:12  Nasi Goreng Oriental       1.0       Pcs          13000.0         CASH             0.0          13000.0        0.0      13000.0\n",
       "13        601890655     740514 2024-02-29 18:48:27  Nasi Goreng Oriental       2.0       Pcs          13000.0         CASH             0.0          26000.0        0.0      26000.0\n",
       "25        601888426     740514 2024-02-29 18:45:14  Nasi Goreng Oriental       2.0       Pcs          13000.0         CASH             0.0          26000.0        0.0      26000.0\n",
       "44        601852024     740514 2024-02-29 17:50:00  Nasi Goreng Oriental       2.0       Pcs          13000.0         CASH             0.0          26000.0        0.0      26000.0\n",
       "49        601850603     740514 2024-02-29 17:48:06  Nasi Goreng Oriental       1.0       Pcs          13000.0         CASH             0.0          13000.0        0.0      13000.0\n",
       "...             ...        ...                 ...                   ...       ...       ...              ...          ...             ...              ...        ...          ...\n",
       "21650830  821338152     740514 2025-05-20 16:24:02  Nasi Goreng Oriental       1.0       Pcs          15000.0         CASH             0.0          15000.0        0.0      15000.0\n",
       "21650849  821320318     740514 2025-05-20 15:54:36  Nasi Goreng Oriental       1.0       Pcs          15000.0         CASH             0.0          15000.0        0.0      15000.0\n",
       "21650865  821526016     740514 2025-05-20 21:44:41  Nasi Goreng Oriental       1.0       Pcs          15000.0         CASH             0.0          15000.0        0.0      15000.0\n",
       "21650926  821521959     740514 2025-05-20 21:29:59  Nasi Goreng Oriental       2.0       Pcs          15000.0         CASH             0.0          30000.0     3000.0      33000.0\n",
       "21650952  821472694     740514 2025-05-20 19:50:32  Nasi Goreng Oriental       2.0       Pcs          15000.0         CASH             0.0          30000.0        0.0      30000.0\n",
       "\n",
       "[554523 rows x 12 columns]"
      ]
     },
     "execution_count": 126,
     "metadata": {},
     "output_type": "execute_result"
    }
   ],
   "source": [
    "df_cleaned_name[df_cleaned_name['name'] == 'Nasi Goreng Oriental']"
   ]
  },
  {
   "cell_type": "code",
   "execution_count": 127,
   "id": "0af9a73c",
   "metadata": {},
   "outputs": [],
   "source": [
    "df_cleaned_name['settled_at'] = pd.to_datetime(df_cleaned_name['settled_at'], format='%Y-%m-%d %H:%M:%S')\n",
    "df_cleaned_name = df_cleaned_name.set_index('settled_at')"
   ]
  },
  {
   "cell_type": "code",
   "execution_count": 128,
   "id": "6867e105",
   "metadata": {},
   "outputs": [
    {
     "data": {
      "text/plain": [
       "id                   int64\n",
       "outlet_id            int64\n",
       "name                object\n",
       "quantity           float64\n",
       "unit_name           object\n",
       "price_sell_unit    float64\n",
       "payment_mode        object\n",
       "total_discount     float64\n",
       "total_collected    float64\n",
       "total_tax          float64\n",
       "total_gross        float64\n",
       "dtype: object"
      ]
     },
     "execution_count": 128,
     "metadata": {},
     "output_type": "execute_result"
    }
   ],
   "source": [
    "df_cleaned_name.dtypes"
   ]
  },
  {
   "cell_type": "code",
   "execution_count": 131,
   "id": "3c3b34f5",
   "metadata": {},
   "outputs": [
    {
     "name": "stdout",
     "output_type": "stream",
     "text": [
      "1245.0\n"
     ]
    }
   ],
   "source": [
    "# df_cleaned_name.loc['2024-02-29']\n",
    "df_feb29_filtered = df_cleaned_name.loc['2024-02-29']\n",
    "df_filtered_by_date_and_name = df_feb29_filtered[df_feb29_filtered['name'] == 'Air mineral']\n",
    "total_quantity_air_mineral = df_filtered_by_date_and_name['quantity'].sum()\n",
    "\n",
    "print(total_quantity_air_mineral)"
   ]
  },
  {
   "cell_type": "code",
   "execution_count": 103,
   "id": "ce397bee",
   "metadata": {},
   "outputs": [],
   "source": [
    "daily_aggregated_sales = df_cleaned_name.groupby(['name', pd.Grouper(freq='D')]).agg(\n",
    "    quantity=('quantity', 'sum'),\n",
    "    # Ambil harga jual per unit TERTINGGI untuk hari itu\n",
    "    price_sell_unit=('price_sell_unit', 'max'),\n",
    "    total_discount=('total_discount', 'sum'),\n",
    "    total_collected=('total_collected', 'sum'),\n",
    "    total_tax=('total_tax', 'sum'),\n",
    "    total_gross=('total_gross', 'sum')\n",
    ").reset_index() # Mengembalikan 'name' dan 'settled_at' menjadi kolom biasa\n",
    "\n",
    "# Mengganti nama kolom 'settled_at' menjadi 'date' untuk kejelasan\n",
    "daily_aggregated_sales.rename(columns={'settled_at': 'date'}, inplace=True)"
   ]
  },
  {
   "cell_type": "code",
   "execution_count": 104,
   "id": "fea614d4",
   "metadata": {},
   "outputs": [
    {
     "data": {
      "text/html": [
       "<div>\n",
       "<style scoped>\n",
       "    .dataframe tbody tr th:only-of-type {\n",
       "        vertical-align: middle;\n",
       "    }\n",
       "\n",
       "    .dataframe tbody tr th {\n",
       "        vertical-align: top;\n",
       "    }\n",
       "\n",
       "    .dataframe thead th {\n",
       "        text-align: right;\n",
       "    }\n",
       "</style>\n",
       "<table border=\"1\" class=\"dataframe\">\n",
       "  <thead>\n",
       "    <tr style=\"text-align: right;\">\n",
       "      <th></th>\n",
       "      <th>name</th>\n",
       "      <th>date</th>\n",
       "      <th>quantity</th>\n",
       "      <th>price_sell_unit</th>\n",
       "      <th>total_discount</th>\n",
       "      <th>total_collected</th>\n",
       "      <th>total_tax</th>\n",
       "      <th>total_gross</th>\n",
       "    </tr>\n",
       "  </thead>\n",
       "  <tbody>\n",
       "    <tr>\n",
       "      <th>0</th>\n",
       "      <td>Kuah Sate</td>\n",
       "      <td>2025-04-22</td>\n",
       "      <td>2118.0</td>\n",
       "      <td>6000.0</td>\n",
       "      <td>0.0</td>\n",
       "      <td>12708000.0</td>\n",
       "      <td>0.0</td>\n",
       "      <td>12708000.0</td>\n",
       "    </tr>\n",
       "    <tr>\n",
       "      <th>1</th>\n",
       "      <td>*AIR HANGAT - Reguler</td>\n",
       "      <td>2023-06-30</td>\n",
       "      <td>1059.0</td>\n",
       "      <td>2000.0</td>\n",
       "      <td>0.0</td>\n",
       "      <td>2118000.0</td>\n",
       "      <td>0.0</td>\n",
       "      <td>2118000.0</td>\n",
       "    </tr>\n",
       "    <tr>\n",
       "      <th>2</th>\n",
       "      <td>*AIR HANGAT - Reguler</td>\n",
       "      <td>2023-07-28</td>\n",
       "      <td>5295.0</td>\n",
       "      <td>2000.0</td>\n",
       "      <td>0.0</td>\n",
       "      <td>10590000.0</td>\n",
       "      <td>0.0</td>\n",
       "      <td>10590000.0</td>\n",
       "    </tr>\n",
       "    <tr>\n",
       "      <th>3</th>\n",
       "      <td>*AIR HANGAT - Reguler</td>\n",
       "      <td>2023-12-12</td>\n",
       "      <td>1059.0</td>\n",
       "      <td>2000.0</td>\n",
       "      <td>0.0</td>\n",
       "      <td>2118000.0</td>\n",
       "      <td>0.0</td>\n",
       "      <td>2118000.0</td>\n",
       "    </tr>\n",
       "    <tr>\n",
       "      <th>4</th>\n",
       "      <td>*AIR HANGAT - Reguler</td>\n",
       "      <td>2023-12-14</td>\n",
       "      <td>1059.0</td>\n",
       "      <td>2000.0</td>\n",
       "      <td>0.0</td>\n",
       "      <td>2118000.0</td>\n",
       "      <td>0.0</td>\n",
       "      <td>2118000.0</td>\n",
       "    </tr>\n",
       "  </tbody>\n",
       "</table>\n",
       "</div>"
      ],
      "text/plain": [
       "                    name       date  quantity  price_sell_unit  total_discount  total_collected  total_tax  total_gross\n",
       "0             Kuah Sate  2025-04-22    2118.0           6000.0             0.0       12708000.0        0.0   12708000.0\n",
       "1  *AIR HANGAT - Reguler 2023-06-30    1059.0           2000.0             0.0        2118000.0        0.0    2118000.0\n",
       "2  *AIR HANGAT - Reguler 2023-07-28    5295.0           2000.0             0.0       10590000.0        0.0   10590000.0\n",
       "3  *AIR HANGAT - Reguler 2023-12-12    1059.0           2000.0             0.0        2118000.0        0.0    2118000.0\n",
       "4  *AIR HANGAT - Reguler 2023-12-14    1059.0           2000.0             0.0        2118000.0        0.0    2118000.0"
      ]
     },
     "execution_count": 104,
     "metadata": {},
     "output_type": "execute_result"
    }
   ],
   "source": [
    "daily_aggregated_sales.head()"
   ]
  },
  {
   "cell_type": "code",
   "execution_count": 105,
   "id": "b83b03a9",
   "metadata": {},
   "outputs": [
    {
     "name": "stdout",
     "output_type": "stream",
     "text": [
      "Tanggal Minimum: 2023-06-23 00:00:00\n",
      "Tanggal Maksimum: 2025-05-21 00:00:00\n"
     ]
    }
   ],
   "source": [
    "# Tanggal Minimum\n",
    "min_date = daily_aggregated_sales['date'].min()\n",
    "\n",
    "# Tanggal Maksimum\n",
    "max_date = daily_aggregated_sales['date'].max()\n",
    "\n",
    "print(f\"Tanggal Minimum: {min_date}\")\n",
    "print(f\"Tanggal Maksimum: {max_date}\")"
   ]
  },
  {
   "cell_type": "code",
   "execution_count": 106,
   "id": "8f9c5d4d",
   "metadata": {},
   "outputs": [],
   "source": [
    "# --- 3. Terapkan Pivot Table Langsung pada daily_aggregated_sales ---\n",
    "\n",
    "# Gunakan pivot_table untuk mengubah 'name' menjadi kolom, dengan 'quantity' sebagai nilainya\n",
    "# 'date' akan menjadi indeks baru\n",
    "df_pivoted_quantity = daily_aggregated_sales.pivot_table(\n",
    "    index='date',\n",
    "    columns='name',\n",
    "    values='quantity',\n",
    "    fill_value=0 # Mengisi nilai 0 jika ada tanggal di mana produk lain terjual tapi produk ini tidak\n",
    ")"
   ]
  },
  {
   "cell_type": "code",
   "execution_count": 107,
   "id": "1105b758",
   "metadata": {},
   "outputs": [],
   "source": [
    "df_pivoted_quantity.to_csv('penjualan_produk_harian.csv', index=True)"
   ]
  },
  {
   "cell_type": "code",
   "execution_count": 108,
   "id": "af81375d",
   "metadata": {},
   "outputs": [
    {
     "name": "stdout",
     "output_type": "stream",
     "text": [
      "name         Kuah Sate   *AIR HANGAT - Reguler  *AIR MINERAL - Reguler  *AYAM BALADO NO PAKET  *AYAM PETEI BALADO NO PAKET  *BAKSO - Reguler  *BAKSO - gofood  *BIGOR CABE IJO - Reguler  *BIGOR CABE IJO - gofood  *BIGOR IKAN ASIN - gofood  *BIGOR KAMPUNG - Reguler  *BIGOR KAMPUNG - gofood  *BIGOR LADA HITAM - Reguler  *BIGOR NANAS - Reguler  *BIGOR NANAS - gofood  *BIGOR PETEI - Reguler  *BIGOR PETEI - gofood  *BIGOR RENDANG - Reguler  *BIGOR SEAFOOD - Gofood  *BIGOR SEAFOOD - Reguler  *BIGOR SOSIS - Gofood  *BIGOR SOSIS - Reguler  *BIGOR TOMYAM  - Reguler  *BIGOR TOMYAM  - gofood  *BIGOR XIANGCHUN - Reguler  *BIGOR XIANGCHUN - gofood  *BIHUN SIRAM - Gofoid  *BIHUN SIRAM - Reguler  *BUBUR AYAM - Reguler  *BUBUR AYAM - gofood  *BUBUR SAYUR - Reguler  *BUBUR SAYUR - gofood  *BURGER MINI - Reguler  *BURGER MINI - gofood  *Bakcang - Gofood  *Bakcang - Reguler  *CAP CAI NO PAKET - Reguler  *CAP CAI NO PAKET - gofood  *CHAI KWE/SUN KUE - Reguler  *CHAI KWE/SUN KUE - gofood  *CHE HUN TIAU - Reguler  *CHE HUN TIAU - gofood  *CHICKEN POPCORN GOVERIA  - GOFOOD   *CHICKEN POPCORN GOVERIA  - Reguler  *COCA COLA - Reguler  *CREAMY MOZA GOVERIA  - GOFOOD   *CREAMY MOZA GOVERIA  - Reguler  *ENOKI GORENG - Reguler  *ENOKI GORENG - gofood  *ES BATU AJA  *ES JERUK KIAMBOI - Gofood  *ES JERUK KIAMBOI - Reguler  *ES JERUK NIPIS - Reguler  *ES KOSONG - Reguler  *ES KRIM/ICE CREAM  *ES LEMON TEA - Reguler  *ES LEMON TEA - gofood  *ES SERUT 3 RASA (KIWI,STRAWBERRY,MANGGA) - Reguler  *ES SERUT 3 RASA (KIWI,STRAWBERRY,MANGGA) - gofood  *ES SERUT ALPOKAT + ES KRIM  - Reguler  *ES SERUT ALPOKAT + ES KRIM  - gofood  *ES SERUT ALPOKAT - Reguler  *ES SERUT ALPOKAT - gofood  *ES SERUT BUAH NAGA  - Reguler  *ES SERUT BUAH NAGA  - gofood  *ES SERUT CINCAU - Reguler  *ES SERUT CINCAU - gofood  *ES SERUT DURIAN - Reguler  *ES SERUT JAGUNG - Reguler  *ES SERUT JAGUNG - gofood  *ES SERUT KACANG IJO - Reguler  *ES SERUT KACANG IJO - gofood  *ES SERUT KACANG MERAH - Reguler  *ES SERUT KACANG MERAH - gofood  *ES SERUT KIWI - Reguler  *ES SERUT KIWI - gofood  *ES SERUT LONGAN - Reguler  *ES SERUT LONGAN - gofood  *ES SERUT MANGGA + ES KRIM  - Reguler  *ES SERUT MANGGA + ES KRIM  - gofood  *ES SERUT MANGGA - Reguler  *ES SERUT MANGGA - gofood  *ES SERUT MELON - Reguler  *ES SERUT MELON - gofood  *ES SERUT MILO + ES KRIM  - Reguler  *ES SERUT MILO + ES KRIM  - gofood  *ES SERUT MIX 2 RASA - Reguler  *ES SERUT MIX 2 RASA - gofood  *ES SERUT MIX 3 RASA - Reguler  *ES SERUT MIX 3 RASA - gofood  *ES SERUT NANGKA - Reguler  *ES SERUT NANGKA - gofood  *ES SERUT OREO + ES KRIM - Reguler  *ES SERUT OREO + ES KRIM - gofood  *ES SERUT PASTA COKLAT - Reguler  *ES SERUT PASTA COKLAT - gofood  *ES SERUT PISANG COKLAT - Reguler  *ES SERUT PISANG COKLAT - gofood  *ES SERUT STRAWBERRY - Reguler  *ES SERUT STRAWBERRY - gofood  *ES SERUT TAPE - Gofood  *ES SERUT TAPE - Reguler  *GRASS JELLY/BARLEY  *GREEN CURRY RAMEN  GOVERIA  - GOFOOD   *GREEN CURRY RAMEN  GOVERIA  - Reguler  *GUO TIE 2 RASA ( KARI,SAYUR) - Reguler  *GUO TIE 2 RASA ( KARI,SAYUR) - gofood  *GUO TIE KARI KENTANG - Reguler  *GUO TIE KARI KENTANG - gofood  *GUO TIE SAYUR  - Reguler  *GUO TIE SAYUR  - gofood  *HOT MILO   *ICE MILO - Reguler  *JAMUR PAHA AYAM GORENG - Reguler  *JAMUR PAHA AYAM GORENG - gofood  *JAMUR TIRAM GORENG - Reguler  *JAMUR TIRAM GORENG - gofood  *JENGKOL BAKAR - Gofood  *JENGKOL BAKAR - Reguler  *JENGKOL CABE IJO NO PAKET  *JERUK NIPIS PANAS - Reguler  *JUS ALPOKAT - Reguler  *JUS ALPOKAT - gofood  *JUS APEL - Reguler  *JUS APEL - gofood  *JUS BUAH NAGA - Reguler  *JUS BUAH NAGA - gofood  *JUS KIWI - Reguler  *JUS KIWI - gofood  *JUS MANGGA - Reguler  *JUS MANGGA - gofood  *JUS MELON - Reguler  *JUS MELON - gofood  *JUS ORANGE - Reguler  *JUS ORANGE - gofood  *JUS PEPAYA - Reguler  *JUS PEPAYA - gofood  *JUS SEMANGKA - gofood  *JUS STRAWBERRY - Reguler  *JUS STRAWBERRY - gofood  *JUS TOMAT - Reguler  *JUS TOMAT - gofood  *JUS WORTEL - Reguler  *KENTANG GORENG/FRENCH FRIES - Gofood  *KENTANG GORENG/FRENCH FRIES - Reguler  *KIAMBOI PANAS - Reguler  *KWEGOR BBQ TAIWAN - Reguler  *KWEGOR CABE IJO - Reguler  *KWEGOR CABE IJO - gofood  *KWEGOR CHA SHAO - Reguler  *KWEGOR CHA SHAO - gofood  *KWEGOR IKAN ASIN - Reguler  *KWEGOR KAMPUNG - Reguler  *KWEGOR KAMPUNG - gofood  *KWEGOR KARI - Reguler  *KWEGOR KIMCHI - Reguler  *KWEGOR LADA HITAM - Reguler  *KWEGOR LADA HITAM - gofood  *KWEGOR MALA - Reguler  *KWEGOR NANAS - Reguler  *KWEGOR NANAS - gofood  *KWEGOR PETEI - Reguler  *KWEGOR PETEI - gofood  *KWEGOR RENDANG - Reguler  *KWEGOR RENDANG - gofood  *KWEGOR SEAFOOD - Gofood  *KWEGOR SEAFOOD - Reguler  *KWEGOR SOSIS - Gofood  *KWEGOR SOSIS - Reguler  *KWEGOR TOMYAM - gofood  *KWEGOR XIANGCHUN - Reguler  *KWEGOR XIANGCHUN - gofood  *KWETIAW SIRAM/BASAH - Gofood  *KWETIAW SIRAM/BASAH - Reguler  *LAKSA - Reguler  *LAKSA - gofood  *LEMON TEA PANAS - Reguler  *LOMIE - Gofood  *LOMIE - Reguler  *MALA RAMEN GOVERIA  - GOFOOD   *MALA RAMEN GOVERIA  - Reguler  *MIE KATSU LADA HITAM - Reguler  *MIE KATSU LADA HITAM - gofood  *MIE KUAH KIMCHI - Gofood  *MIE KUAH KIMCHI - Reguler  *MIE SAMYANG (level 1) - Go food  *MIE SAMYANG (level 1) - Reguler  *MIE SAMYANG(extra pedas) - Go food  *MIE SAMYANG(extra pedas) - Reguler  *MIEGOR CABE IJO - Reguler  *MIEGOR CABE IJO - gofood  *MIEGOR CHA SHAO - Reguler  *MIEGOR CHA SHAO - gofood  *MIEGOR IKAN ASIN - Reguler  *MIEGOR KAMPUNG - Reguler  *MIEGOR KAMPUNG - gofood  *MIEGOR KARI - Reguler  *MIEGOR KARI - gofood  *MIEGOR KIMCHI - Reguler  *MIEGOR KIMCHI - gofood  *MIEGOR LADA HITAM - Reguler  *MIEGOR LADA HITAM - gofood  *MIEGOR MALA - Reguler  *MIEGOR NANAS - gofood  *MIEGOR PETAI - Reguler  *MIEGOR PETAI - gofood  *MIEGOR RENDANG - Reguler  *MIEGOR RENDANG - gofood  *MIEGOR SEAFOOD - Gofood  *MIEGOR SEAFOOD - Reguler  *MIEGOR SOSIS - Gofood  *MIEGOR SOSIS - Reguler  *MIEGOR TOMYAM - Reguler  *MIEGOR TOMYAM - gofood  *MIEGOR XIANGCHUN - Reguler  *MIEGOR XIANGCHUN - gofood  *MPEK MPEK - Reguler  *MPEK MPEK - gofood  *NASGOR BBQ TAIWAN - Reguler  *NASGOR BBQ TAIWAN - gofood  *NASGOR CABE IJO - Reguler  *NASGOR CABE IJO - gofood  *NASGOR CHA SHAO - Reguler  *NASGOR CHA SHAO - gofood  *NASGOR EBI - GOFFOD  *NASGOR EBI - Reguler  *NASGOR IKAN ASIN - Reguler  *NASGOR IKAN ASIN - gofood  *NASGOR KAMPUNG - Reguler  *NASGOR KAMPUNG - gofood  *NASGOR KARI - Reguler  *NASGOR KARI - gofood  *NASGOR KIMCHI - Reguler  *NASGOR KIMCHI - gofood  *NASGOR LADA HITAM - Reguler  *NASGOR LADA HITAM - gofood  *NASGOR MALA - Reguler  *NASGOR MALA - gofood  *NASGOR NANAS - Reguler  *NASGOR NANAS - gofood  *NASGOR OLIVE - Reguler  *NASGOR OLIVE - gofood  *NASGOR PETAI - Reguler  *NASGOR PETAI - gofood  *NASGOR RENDANG - Reguler  *NASGOR RENDANG - gofood  *NASGOR SEAFOOD - Reguler  *NASGOR SEAFOOD - gofood  *NASGOR TOMYAM - Reguler  *NASGOR TOMYAM - gofood  ...  Es Serut Mix 5 Rasa - Reguler  Es Serut Nanas - Reguler  Es Serut Nanas - gofood  Es Serut Talas - Reguler  Extra seafood  Fruit Roll Cake ( Pandan) - Gofood  Fruit Roll Cake ( Pandan) - Reguler  Fruit Roll Cake (Vanilla) - Gofood  Fruit Roll Cake (Vanilla) - Reguler  Fruit Tart - Reguler  Gogo Emping  Gogo Kacang medan  Gove Coffee Brown Sugar  - Reguler  Gove Coffee Brown Sugar  - gofood  Gove Coffee Original  - Reguler  Gove Coffee Original  - gofood gove coffe  Hot Black coffee  - Reguler  Hot Black coffee  - gofood  Hot Cappuccino  - Reguler  Hot Cappuccino  - godood  Hot Choco - Reguler  Ice Black Coffee  - Reguler  Ice Black Coffee  - gofood  Ice Cappuccino  - Reguler  Ice Cappuccino  - gofood  Ice Choco Latte - Reguler  Ice choco - Reguler  Ice choco - gofood  Ikan Bakar Kuning Mentah/pcs  Ikan Bilis Merah  Intimie soto/goreng  Jengkol Aja - Reguler  Jengkol Rendang Frozen - Gofood  Jengkol Rendang Frozen - Reguler  Jus 2 Rasa - Reguler  KOTAK - Reguler  Kacang Bali Leklek  Kacang Mala Goveria(botol kecil)  Kacang Mente (Toples merah) 325 gr  Kacang Tanah pedas manis (Petak)  Kapal Api  Kastangel Keju (Petak)  Keripik Bawang  Keripik Kentang - Reguler  Keripik Kentang - gofood  Keripik Lucky - Reguler  Keripik Tempe Kantong  Keripik Tempe Toples  Keripik pisang Lucky  Kerupu Warna Warni Lek Lek   Kerupuk Gogo  Kerupuk Jengkol - Reguler  Kerupuk QoQiQu - Reguler  Kerupuk Singkong Balado Lek Lek   Kerupuk Tabung Kecil  Kerupuk Udang Lek Lek   Ketoprak Tahu + Sate - Reguler  Kimchi Frozen - Gofood  Kopi Susu - Reguler  Kopi o  Kopi susu  Kotak Pizza  Kuah Rawon  Kuah bakso  Kue Bawang Kantong  Kue Bawang bks Kecil   Kue Putar Putar  Kulit 127gr  Laksa Jumbo  Laopho bing - Reguler  Lek Lek Kacang Gurih  Lemper  Liang Teh Wang Lao Ji  Lucky krupuk - Reguler  MAKARONI/MACARONI PEDAS  MIKADO IMLEK  Ma La Mian  Mamee Cupmie(1 cup)  Mamee Curry - Reguler  Mata Sapi - Reguler  Mie Daay - Reguler  Mie Daay Kary  Mie Katsu Ikan Kari  Mie Lek2 @pcs  Mie Rujak Kuah Mpekmpek - Reguler  Mie Samyang karyawan  Mie Siram - Gofood  Milo Kaleng  Minuman Green Sand  Minuman Kaleng - Reguler  Minuman kaleng Drinho  Muli Banana Lek Lek  NASGOR SOSIS GOVERIA - Reguler  NASGOR SOSIS GOVERIA - gofood  NASI PUTIH - Reguler  NASI PUTIH - gofood  Nasgor Nanas Jumbo  Nasgor Polos  Nasgor jumbo Kari - Reguler  Nasgor kimci jumbo - Reguler  Nasi 1/2  Nasi Bebek sambal ijo (vegan)  Nasi Katsu Lada Hitam - Reguler  Nasi No Paket - Reguler  Nasi No Paket Petai  Nasi Pepes - Reguler  Nasi Tahu Tempe  Nastar bulat Goveria(toples merah)  Nescafe  Nori 100 lembar  Nori Kecil - Gofood  Nori Kecil - Reguler  Nori tabur  Opak - Reguler  PIZZA Rendang - Gofood  PIZZA Rendang - Reguler  Perkedel  Petei Nasgor Jumbo  Petei Porsian Cabe Ijo/Balado  Pizza Vegetables - Reguler  Pizza Vegetables - gofood  Pizza makan ( Jagung / Sosis / Kari/Tuna / Hawaii/Vegetable/Keju,Coklat ) 60rb - Reguler  Pocari - Reguler  Protena 1/2kg  Ready meal Betutu Bali Lek Lek  Ready meal Rendang Lek Lek  Ready meal Rica Rica Lek Lek  Ready meal woku manado Lek Lek  Rendang Aja - Reguler  Rosella  Roti Abon - Gofood  Roti Abon - Reguler  Roti Abon Gulung - Reguler  Roti Coklat - Reguler  Roti Coklat - Roti Coklat GoFood  Roti Coklat Nutella - Gofood  Roti Coklat Nutella - Reguler  Roti Jagung Chessee - Gofood  Roti Jagung Chessee - Reguler  Roti Jamur  Roti Kacang Hijau - Reguler  Roti Kacang Merah - Gofoood  Roti Kacang Merah - Reguler  Roti Karyawan  Roti Karyawan - Reguler  Roti Keju  Roti Keju Coklat - Gofood  Roti Keju Coklat - Reguler  Roti Keju Xiangchun - Gofood  Roti Keju Xiangchun - Reguler  Roti Nanas - Gofood  Roti Nanas - Reguler  Roti Nugget box - Gofood  Roti Nugget box - Reguler  Roti Pandan  Roti Pisang Coklat - Gofood  Roti Pisang Coklat - Reguler  Roti Sosis - Gofood  Roti Sosis - Reguler  Roti Sosis Vege box - Gofood  Roti Sosis Vege box - Reguler  Roti Srikaya - Gofood  Roti Srikaya - Reguler  Roti Talas - Gofood  Roti Talas - Reguler  Roti Tuna Ladahitam - Gofood  Roti Tuna Ladahitam - Reguler  Roti Ubi Ungu - Gofood  Roti Ubi Ungu - Reguler  Roti Vla Susu - Reguler  Roti kacang tanah  Roti karyawan  Roti pizza mini - Gofood  Roti pizza mini - Reguler  Rujak - Reguler  SNAKC GOVERIA  Sambal Petai Porsian  Sambal Tabur - Reguler  Sambal hijo Teri jamur - Reguler  Sambal hijo Teri jamur - gofood  Sate Porsian(5pcs)  Serut Kosong  Sirup Merah  Sop Wonton Miekriting/Bihun - Reguler  Soto Bihun/Miekriting - Reguler  Sprite  Sprite - Reguler  Sumpia 1KG  Sumpia bks kecil  TERI   Tahu/Tempe/ - Reguler  Tambah Kerupuk Kulit  Teh O/Obeng Tawar  Teh Susu - Reguler  Telur - Reguler  Telur Dadar - Reguler  Tery crispy  Thin Cookies  Tongseng Goveria - Gofood  Xiang Chun Jumbo - Reguler  Yam Kwetiau  Yammie Jumbo  Yong Tahu + Bihun  air panas  bakso 3 biji  ebi  es batu  es serut cup  ikan bilis biru - Reguler  ikan katsu no paket  jus 2 rasa  kacang manis oppa  keripik singkong  kerupuk Kentang Tabung  kerupuk borobudur  kerupuk bulat  kerupuk petei  kerupuk singkong/udang/warna Mentah  kicang  kotak kosong  kotak kosong - Reguler  kuah mpek mpek  kuah sop - Reguler  kuah soto - Reguler  lada hitam nasgor jumbo - Reguler  lontong aja  lucky kripik  madu(1/2kg)  mangkok kosong  mie cup vegan  mie leklek isi 5  nasgor ladahitam jumbo  nasgor rendang jumbo - Reguler  nori  opak  pepes petei telur tebu porsian - Reguler  roti Tiramisu - Reguler  roti burger kosong  roti green tea  roti kelapa - Gofood  roti kelapa - Reguler  roti strawberry - Reguler  roti strawberry - gofood  roti susu kismis - Reguler  roti ubi kuning - Gofood  roti ubi kuning - Reguler  shui yuan   soto no paket  terasi  wonton\n",
      "date                                                                                                                                                                                                                                                                                                                                                                                                                                                                                                                                                                                                                                                                                                                                                                                                                                                                                                                                                                                                                                                                                                                                                                                                                                                                                                                                                                                                                                                                                                                                                                                                                                                                                                                                                                                                                                                                                                                                                                                                                                                                                                                                                                                                                                                                                                                                                                                                                                                                                                                                                                                                                                                                                                                                                                                                                                                                                                                                                                                                                                                                                                                                                                                                                                                                                                                                                                                                                                                                                                                                                                                                                                                                                                                                                                                                                                                                                                                                                                                                                                                                                                                                                                                                                                                                                                                                                                                                                                                                                                                                                                                                                                                                                                                                                                                                                                                                                                                                                                                                                                                                                                                                                                                                                                                                                                                                                                                                                                                                                                                                                                                                                                                                                                                                                                                                                                                                                                                                                                                                                                                                                                                                                                                                                                                                                                                                                                                                                                                                                                                                                                                                                                                                                                                                                                                                                                                                                                                                                                                                                                                                                    ...                                                                                                                                                                                                                                                                                                                                                                                                                                                                                                                                                                                                                                                                                                                                                                                                                                                                                                                                                                                                                                                                                                                                                                                                                                                                                                                                                                                                                                                                                                                                                                                                                                                                                                                                                                                                                                                                                                                                                                                                                                                                                                                                                                                                                                                                                                                                                                                                                                                                                                                                                                                                                                                                                                                                                                                                                                                                                                                                                                                                                                                                                                                                                                                                                                                                                                                                                                                                                                                                                                                                                                                                                                                                                                                                                                                                                                                                                                                                                                                                                                                                                                                                                                                                                                                                                                                                                                                                                                                                                                                                                                                                                                                                                                                                                                                                                                                                                                                                                                                                                                                                                                                                                                                                                                                                                                                                                                                                                                                                                                                                                                                                                                                                                                                                                                                                                                                                                 \n",
      "2023-06-23          0.0                    0.0                     0.0                    0.0                          0.0               0.0              0.0                        0.0                       0.0                        0.0                       0.0                      0.0                          0.0                     0.0                    0.0                     0.0                    0.0                       0.0                      0.0                       0.0                    0.0                     0.0                       0.0                      0.0                         0.0                        0.0                    0.0                     0.0                    0.0                   0.0                     0.0                    0.0                     0.0                    0.0                0.0                 0.0                          0.0                         0.0                          0.0                         0.0                      0.0                     0.0                                  0.0                                  0.0                   0.0                              0.0                              0.0                      0.0                     0.0           0.0                         0.0                          0.0                        0.0                   0.0                 0.0                      0.0                     0.0                                                0.0                                                  0.0                                      0.0                                    0.0                          0.0                         0.0                             0.0                            0.0                         0.0                        0.0                         0.0                         0.0                        0.0                             0.0                            0.0                               0.0                              0.0                       0.0                      0.0                         0.0                        0.0                                    0.0                                   0.0                         0.0                        0.0                        0.0                       0.0                                  0.0                                 0.0                             0.0                            0.0                             0.0                            0.0                         0.0                        0.0                                 0.0                                0.0                               0.0                              0.0                                0.0                               0.0                             0.0                            0.0                      0.0                       0.0                  0.0                                     0.0                                     0.0                                      0.0                                     0.0                              0.0                             0.0                        0.0                       0.0         0.0                  0.0                                0.0                               0.0                            0.0                           0.0                      0.0                       0.0                         0.0                           0.0                     0.0                    0.0                  0.0                 0.0                       0.0                      0.0                  0.0                 0.0                    0.0                   0.0                   0.0                  0.0                    0.0                   0.0                    0.0                   0.0                     0.0                        0.0                       0.0                   0.0                  0.0                    0.0                                    0.0                                     0.0                       0.0                           0.0                         0.0                        0.0                         0.0                        0.0                          0.0                        0.0                       0.0                     0.0                       0.0                           0.0                          0.0                     0.0                      0.0                     0.0                      0.0                     0.0                        0.0                       0.0                       0.0                        0.0                     0.0                      0.0                      0.0                          0.0                         0.0                            0.0                             0.0               0.0              0.0                         0.0              0.0               0.0                             0.0                             0.0                              0.0                             0.0                        0.0                         0.0                               0.0                               0.0                                  0.0                                  0.0                         0.0                        0.0                         0.0                        0.0                          0.0                        0.0                       0.0                     0.0                    0.0                       0.0                      0.0                           0.0                          0.0                     0.0                     0.0                      0.0                     0.0                        0.0                       0.0                       0.0                        0.0                     0.0                      0.0                       0.0                      0.0                          0.0                         0.0                   0.0                  0.0                           0.0                          0.0                         0.0                        0.0                         0.0                        0.0                   0.0                    0.0                          0.0                         0.0                        0.0                       0.0                     0.0                    0.0                       0.0                      0.0                           0.0                          0.0                     0.0                    0.0                      0.0                     0.0                      0.0                     0.0                      0.0                     0.0                        0.0                       0.0                        0.0                       0.0                       0.0                      0.0  ...                            0.0                       0.0                      0.0                       0.0            0.0                                 0.0                                  0.0                                 0.0                                  0.0                   0.0          0.0                0.0                                 0.0                                0.0                              0.0                                        0.0                          0.0                         0.0                        0.0                       0.0                  0.0                          0.0                         0.0                        0.0                       0.0                        0.0                  0.0                 0.0                           0.0               0.0                  0.0                    0.0                              0.0                               0.0                   0.0              0.0                 0.0                               0.0                                 0.0                               0.0        0.0                     0.0             0.0                     1059.0                       0.0                      0.0                    0.0                   0.0                   0.0                          0.0           0.0                        0.0                       0.0                               0.0                   0.0                     0.0                             0.0                     0.0                  0.0     0.0        0.0          0.0         0.0         0.0                 0.0                    0.0              0.0          0.0          0.0                    0.0                   0.0     0.0                    0.0                     0.0                      0.0           0.0         0.0                  0.0                    0.0                  0.0                 0.0            0.0                  0.0            0.0                                0.0                   0.0                 0.0          0.0                 0.0                       0.0                    0.0                  0.0                             0.0                            0.0                   0.0                  0.0                 0.0           0.0                          0.0                           0.0       0.0                            0.0                              0.0                      0.0                  0.0                   0.0              0.0                                 0.0      0.0              0.0                  0.0                   0.0         0.0             0.0                     0.0                      0.0       0.0                 0.0                            0.0                         0.0                        0.0                                                0.0                                                      0.0            0.0                             0.0                         0.0                           0.0                             0.0                    0.0      0.0                 0.0                  0.0                         0.0                    0.0                               0.0                           0.0                            0.0                           0.0                            0.0         0.0                          0.0                          0.0                          0.0            0.0                      0.0        0.0                        0.0                         0.0                           0.0                            0.0                  0.0                   0.0                       0.0                        0.0          0.0                          0.0                           0.0                  0.0                   0.0                           0.0                            0.0                    0.0                     0.0                  0.0                   0.0                           0.0                            0.0                     0.0                      0.0                      0.0                0.0            0.0                       0.0                        0.0              0.0            0.0                   0.0                     0.0                               0.0                              0.0                 0.0           0.0          0.0                                    0.0                              0.0     0.0               0.0         0.0            1059.0    0.0                    0.0                   0.0                0.0                 0.0              0.0                    0.0          0.0           0.0                        0.0                         0.0          0.0           0.0                0.0        0.0           0.0  0.0      0.0           0.0                        0.0                  0.0         0.0                0.0               0.0                     0.0                0.0            0.0            0.0                                  0.0     0.0           0.0                     0.0             0.0                 0.0                  0.0                                0.0          0.0           0.0          0.0             0.0            0.0               0.0                     0.0                             0.0   0.0   0.0                                       0.0                      0.0                 0.0             0.0                   0.0                    0.0                        0.0                       0.0                         0.0                       0.0                        0.0         0.0            0.0     0.0     0.0\n",
      "2023-06-25          0.0                    0.0                     0.0                    0.0                          0.0               0.0              0.0                        0.0                       0.0                        0.0                       0.0                      0.0                          0.0                     0.0                    0.0                     0.0                    0.0                       0.0                      0.0                       0.0                    0.0                     0.0                       0.0                      0.0                         0.0                        0.0                    0.0                     0.0                    0.0                   0.0                     0.0                    0.0                     0.0                    0.0                0.0                 0.0                          0.0                         0.0                          0.0                         0.0                      0.0                     0.0                                  0.0                                  0.0                   0.0                              0.0                              0.0                      0.0                     0.0           0.0                         0.0                          0.0                        0.0                   0.0                 0.0                      0.0                     0.0                                                0.0                                                  0.0                                      0.0                                    0.0                          0.0                         0.0                             0.0                            0.0                         0.0                        0.0                         0.0                         0.0                        0.0                             0.0                            0.0                               0.0                              0.0                       0.0                      0.0                         0.0                        0.0                                    0.0                                   0.0                         0.0                        0.0                        0.0                       0.0                                  0.0                                 0.0                             0.0                            0.0                          1059.0                            0.0                         0.0                        0.0                                 0.0                                0.0                               0.0                              0.0                                0.0                               0.0                             0.0                            0.0                      0.0                       0.0                  0.0                                     0.0                                     0.0                                      0.0                                     0.0                              0.0                             0.0                        0.0                       0.0         0.0                  0.0                                0.0                               0.0                            0.0                           0.0                      0.0                       0.0                         0.0                           0.0                     0.0                    0.0                  0.0                 0.0                       0.0                      0.0                  0.0                 0.0                    0.0                   0.0                   0.0                  0.0                    0.0                   0.0                    0.0                   0.0                     0.0                        0.0                       0.0                   0.0                  0.0                    0.0                                    0.0                                     0.0                       0.0                           0.0                         0.0                        0.0                         0.0                        0.0                          0.0                        0.0                       0.0                     0.0                       0.0                           0.0                          0.0                     0.0                      0.0                     0.0                      0.0                     0.0                        0.0                       0.0                       0.0                        0.0                     0.0                      0.0                      0.0                          0.0                         0.0                            0.0                             0.0               0.0              0.0                         0.0              0.0               0.0                             0.0                             0.0                              0.0                             0.0                        0.0                         0.0                               0.0                               0.0                                  0.0                                  0.0                         0.0                        0.0                         0.0                        0.0                          0.0                        0.0                       0.0                     0.0                    0.0                       0.0                      0.0                           0.0                          0.0                     0.0                     0.0                      0.0                     0.0                        0.0                       0.0                       0.0                        0.0                     0.0                      0.0                       0.0                      0.0                          0.0                         0.0                   0.0                  0.0                           0.0                          0.0                         0.0                        0.0                         0.0                        0.0                   0.0                    0.0                          0.0                         0.0                        0.0                       0.0                     0.0                    0.0                       0.0                      0.0                           0.0                          0.0                     0.0                    0.0                      0.0                     0.0                      0.0                     0.0                      0.0                     0.0                        0.0                       0.0                        0.0                       0.0                       0.0                      0.0  ...                            0.0                       0.0                      0.0                       0.0            0.0                                 0.0                                  0.0                                 0.0                                  0.0                   0.0          0.0                0.0                                 0.0                                0.0                              0.0                                        0.0                          0.0                         0.0                        0.0                       0.0                  0.0                          0.0                         0.0                        0.0                       0.0                        0.0                  0.0                 0.0                           0.0               0.0                  0.0                    0.0                              0.0                               0.0                   0.0              0.0                 0.0                               0.0                                 0.0                               0.0        0.0                     0.0             0.0                        0.0                       0.0                      0.0                    0.0                   0.0                   0.0                          0.0           0.0                        0.0                       0.0                               0.0                   0.0                     0.0                             0.0                     0.0                  0.0     0.0        0.0          0.0         0.0         0.0                 0.0                    0.0              0.0          0.0          0.0                    0.0                   0.0     0.0                    0.0                     0.0                      0.0           0.0         0.0                  0.0                    0.0                  0.0                 0.0            0.0                  0.0            0.0                                0.0                   0.0                 0.0          0.0                 0.0                       0.0                    0.0                  0.0                             0.0                            0.0                   0.0                  0.0                 0.0           0.0                          0.0                           0.0       0.0                            0.0                              0.0                      0.0                  0.0                   0.0              0.0                                 0.0      0.0              0.0                  0.0                   0.0         0.0             0.0                     0.0                      0.0       0.0                 0.0                            0.0                         0.0                        0.0                                                0.0                                                      0.0            0.0                             0.0                         0.0                           0.0                             0.0                    0.0      0.0                 0.0                  0.0                         0.0                    0.0                               0.0                           0.0                            0.0                           0.0                            0.0         0.0                          0.0                          0.0                          0.0            0.0                      0.0        0.0                        0.0                         0.0                           0.0                            0.0                  0.0                   0.0                       0.0                        0.0          0.0                          0.0                           0.0                  0.0                   0.0                           0.0                            0.0                    0.0                     0.0                  0.0                   0.0                           0.0                            0.0                     0.0                      0.0                      0.0                0.0            0.0                       0.0                        0.0              0.0            0.0                   0.0                     0.0                               0.0                              0.0                 0.0           0.0          0.0                                    0.0                              0.0     0.0               0.0         0.0               0.0    0.0                    0.0                   0.0                0.0                 0.0              0.0                    0.0          0.0           0.0                        0.0                         0.0          0.0           0.0                0.0        0.0           0.0  0.0      0.0           0.0                        0.0                  0.0         0.0                0.0               0.0                     0.0                0.0            0.0            0.0                                  0.0     0.0           0.0                     0.0             0.0                 0.0                  0.0                                0.0          0.0           0.0          0.0             0.0            0.0               0.0                     0.0                             0.0   0.0   0.0                                       0.0                      0.0                 0.0             0.0                   0.0                    0.0                        0.0                       0.0                         0.0                       0.0                        0.0         0.0            0.0     0.0     0.0\n",
      "2023-06-26          0.0                    0.0                     0.0                    0.0                          0.0               0.0              0.0                        0.0                       0.0                        0.0                       0.0                      0.0                          0.0                     0.0                    0.0                     0.0                    0.0                       0.0                      0.0                       0.0                    0.0                     0.0                       0.0                      0.0                         0.0                        0.0                    0.0                     0.0                    0.0                   0.0                     0.0                    0.0                     0.0                    0.0                0.0                 0.0                          0.0                         0.0                          0.0                         0.0                      0.0                     0.0                                  0.0                                  0.0                   0.0                              0.0                              0.0                      0.0                     0.0           0.0                         0.0                          0.0                        0.0                   0.0                 0.0                      0.0                     0.0                                                0.0                                                  0.0                                      0.0                                    0.0                          0.0                         0.0                             0.0                            0.0                         0.0                        0.0                         0.0                         0.0                        0.0                          2118.0                            0.0                               0.0                              0.0                       0.0                      0.0                      1059.0                        0.0                                    0.0                                   0.0                         0.0                        0.0                        0.0                       0.0                                  0.0                                 0.0                             0.0                            0.0                             0.0                            0.0                         0.0                        0.0                                 0.0                                0.0                               0.0                              0.0                                0.0                               0.0                             0.0                            0.0                      0.0                       0.0                  0.0                                     0.0                                     0.0                                      0.0                                     0.0                              0.0                             0.0                        0.0                       0.0         0.0                  0.0                                0.0                               0.0                            0.0                           0.0                      0.0                       0.0                         0.0                           0.0                     0.0                    0.0                  0.0                 0.0                       0.0                      0.0                  0.0                 0.0                    0.0                   0.0                   0.0                  0.0                    0.0                   0.0                    0.0                   0.0                     0.0                        0.0                       0.0                   0.0                  0.0                    0.0                                    0.0                                     0.0                       0.0                           0.0                         0.0                        0.0                         0.0                        0.0                          0.0                        0.0                       0.0                     0.0                       0.0                           0.0                          0.0                     0.0                      0.0                     0.0                      0.0                     0.0                        0.0                       0.0                       0.0                        0.0                     0.0                      0.0                      0.0                          0.0                         0.0                            0.0                             0.0               0.0              0.0                         0.0              0.0               0.0                             0.0                             0.0                              0.0                             0.0                        0.0                         0.0                               0.0                               0.0                                  0.0                                  0.0                         0.0                        0.0                         0.0                        0.0                          0.0                        0.0                       0.0                     0.0                    0.0                       0.0                      0.0                           0.0                          0.0                     0.0                     0.0                      0.0                     0.0                        0.0                       0.0                       0.0                        0.0                     0.0                      0.0                       0.0                      0.0                          0.0                         0.0                   0.0                  0.0                           0.0                          0.0                         0.0                        0.0                         0.0                        0.0                   0.0                    0.0                          0.0                         0.0                        0.0                       0.0                     0.0                    0.0                       0.0                      0.0                           0.0                          0.0                     0.0                    0.0                      0.0                     0.0                      0.0                     0.0                      0.0                     0.0                        0.0                       0.0                        0.0                       0.0                       0.0                      0.0  ...                            0.0                       0.0                      0.0                       0.0            0.0                                 0.0                                  0.0                                 0.0                                  0.0                   0.0          0.0                0.0                                 0.0                                0.0                              0.0                                        0.0                          0.0                         0.0                        0.0                       0.0                  0.0                          0.0                         0.0                        0.0                       0.0                        0.0                  0.0                 0.0                           0.0               0.0                  0.0                    0.0                              0.0                               0.0                   0.0              0.0                 0.0                               0.0                                 0.0                               0.0        0.0                     0.0             0.0                        0.0                       0.0                      0.0                    0.0                   0.0                   0.0                          0.0           0.0                        0.0                       0.0                               0.0                   0.0                     0.0                             0.0                     0.0                  0.0     0.0        0.0          0.0         0.0         0.0                 0.0                    0.0              0.0          0.0          0.0                    0.0                   0.0     0.0                    0.0                     0.0                      0.0           0.0         0.0                  0.0                    0.0                  0.0                 0.0            0.0                  0.0            0.0                                0.0                   0.0                 0.0          0.0                 0.0                       0.0                    0.0                  0.0                             0.0                            0.0                   0.0                  0.0                 0.0           0.0                          0.0                           0.0       0.0                            0.0                              0.0                      0.0                  0.0                   0.0              0.0                                 0.0      0.0              0.0                  0.0                   0.0         0.0             0.0                     0.0                      0.0       0.0                 0.0                            0.0                         0.0                        0.0                                                0.0                                                      0.0            0.0                             0.0                         0.0                           0.0                             0.0                    0.0      0.0                 0.0                  0.0                         0.0                    0.0                               0.0                           0.0                            0.0                           0.0                            0.0         0.0                          0.0                          0.0                          0.0            0.0                      0.0        0.0                        0.0                         0.0                           0.0                            0.0                  0.0                   0.0                       0.0                        0.0          0.0                          0.0                           0.0                  0.0                   0.0                           0.0                            0.0                    0.0                     0.0                  0.0                   0.0                           0.0                            0.0                     0.0                      0.0                      0.0                0.0            0.0                       0.0                        0.0              0.0            0.0                   0.0                     0.0                               0.0                              0.0                 0.0           0.0          0.0                                    0.0                              0.0     0.0               0.0         0.0               0.0    0.0                    0.0                   0.0                0.0                 0.0              0.0                    0.0          0.0           0.0                        0.0                         0.0          0.0           0.0                0.0        0.0           0.0  0.0      0.0           0.0                        0.0                  0.0         0.0                0.0               0.0                     0.0                0.0            0.0            0.0                                  0.0     0.0           0.0                     0.0             0.0                 0.0                  0.0                                0.0          0.0           0.0          0.0             0.0            0.0               0.0                     0.0                             0.0   0.0   0.0                                       0.0                      0.0                 0.0             0.0                   0.0                    0.0                        0.0                       0.0                         0.0                       0.0                        0.0         0.0            0.0     0.0     0.0\n",
      "2023-06-30          0.0                 1059.0                  1059.0                    0.0                          0.0            1059.0              0.0                        0.0                       0.0                        0.0                       0.0                      0.0                          0.0                     0.0                    0.0                     0.0                    0.0                       0.0                      0.0                       0.0                    0.0                     0.0                       0.0                      0.0                         0.0                        0.0                    0.0                     0.0                    0.0                   0.0                     0.0                    0.0                     0.0                    0.0                0.0                 0.0                          0.0                         0.0                          0.0                         0.0                      0.0                     0.0                                  0.0                                  0.0                   0.0                              0.0                              0.0                      0.0                     0.0           0.0                         0.0                          0.0                        0.0                1059.0                 0.0                      0.0                     0.0                                             2118.0                                                  0.0                                      0.0                                    0.0                          0.0                         0.0                             0.0                            0.0                         0.0                        0.0                         0.0                      1059.0                        0.0                             0.0                            0.0                               0.0                              0.0                       0.0                      0.0                         0.0                        0.0                                    0.0                                   0.0                         0.0                        0.0                        0.0                       0.0                                  0.0                                 0.0                             0.0                            0.0                             0.0                            0.0                         0.0                        0.0                                 0.0                                0.0                               0.0                              0.0                                0.0                               0.0                             0.0                            0.0                      0.0                       0.0               1059.0                                     0.0                                     0.0                                      0.0                                     0.0                              0.0                             0.0                        0.0                       0.0         0.0                  0.0                             1059.0                               0.0                         1059.0                           0.0                      0.0                       0.0                         0.0                           0.0                     0.0                    0.0                  0.0                 0.0                       0.0                      0.0                  0.0                 0.0                    0.0                   0.0                   0.0                  0.0                    0.0                   0.0                    0.0                   0.0                     0.0                        0.0                       0.0                   0.0                  0.0                    0.0                                    0.0                                     0.0                       0.0                           0.0                         0.0                        0.0                         0.0                        0.0                          0.0                        0.0                       0.0                     0.0                       0.0                           0.0                          0.0                     0.0                      0.0                     0.0                      0.0                     0.0                        0.0                       0.0                       0.0                        0.0                     0.0                      0.0                      0.0                          0.0                         0.0                            0.0                             0.0               0.0              0.0                         0.0              0.0               0.0                             0.0                             0.0                              0.0                             0.0                        0.0                         0.0                               0.0                               0.0                                  0.0                                  0.0                         0.0                        0.0                         0.0                        0.0                          0.0                        0.0                       0.0                     0.0                    0.0                       0.0                      0.0                           0.0                          0.0                     0.0                     0.0                      0.0                     0.0                        0.0                       0.0                       0.0                        0.0                     0.0                      0.0                       0.0                      0.0                       1059.0                         0.0                   0.0                  0.0                           0.0                          0.0                         0.0                        0.0                         0.0                        0.0                   0.0                    0.0                          0.0                         0.0                        0.0                       0.0                     0.0                    0.0                       0.0                      0.0                           0.0                          0.0                     0.0                    0.0                      0.0                     0.0                      0.0                     0.0                      0.0                     0.0                        0.0                       0.0                     1059.0                       0.0                       0.0                      0.0  ...                            0.0                       0.0                      0.0                       0.0            0.0                                 0.0                               2118.0                                 0.0                               2118.0                   0.0          0.0                0.0                                 0.0                                0.0                              0.0                                        0.0                          0.0                         0.0                        0.0                       0.0                  0.0                          0.0                         0.0                        0.0                       0.0                        0.0                  0.0                 0.0                           0.0               0.0                  0.0                    0.0                              0.0                               0.0                   0.0              0.0                 0.0                               0.0                                 0.0                               0.0        0.0                     0.0             0.0                        0.0                       0.0                      0.0                    0.0                   0.0                   0.0                          0.0           0.0                        0.0                    2118.0                               0.0                   0.0                     0.0                             0.0                     0.0                  0.0     0.0        0.0          0.0         0.0         0.0                 0.0                    0.0              0.0          0.0          0.0                    0.0                   0.0     0.0                    0.0                  1059.0                      0.0           0.0         0.0                  0.0                    0.0                  0.0                 0.0            0.0                  0.0            0.0                                0.0                   0.0                 0.0          0.0                 0.0                       0.0                    0.0                  0.0                             0.0                            0.0                   0.0                  0.0                 0.0           0.0                          0.0                           0.0       0.0                            0.0                              0.0                      0.0                  0.0                   0.0              0.0                                 0.0      0.0              0.0                  0.0                   0.0         0.0             0.0                     0.0                      0.0       0.0                 0.0                            0.0                         0.0                        0.0                                             1059.0                                                      0.0            0.0                             0.0                         0.0                           0.0                             0.0                    0.0      0.0                 0.0                  0.0                         0.0                    0.0                               0.0                           0.0                            0.0                           0.0                            0.0         0.0                          0.0                          0.0                          0.0            0.0                      0.0        0.0                        0.0                         0.0                           0.0                            0.0                  0.0                   0.0                       0.0                        0.0          0.0                          0.0                           0.0                  0.0                1059.0                           0.0                            0.0                    0.0                     0.0                  0.0                   0.0                           0.0                            0.0                     0.0                      0.0                      0.0                0.0            0.0                       0.0                     2118.0              0.0            0.0                   0.0                     0.0                               0.0                              0.0                 0.0           0.0          0.0                                    0.0                              0.0     0.0               0.0         0.0               0.0    0.0                    0.0                   0.0                0.0                 0.0              0.0                    0.0          0.0           0.0                        0.0                         0.0          0.0           0.0                0.0        0.0           0.0  0.0      0.0           0.0                        0.0                  0.0         0.0                0.0               0.0                     0.0                0.0            0.0            0.0                                  0.0     0.0           0.0                     0.0             0.0                 0.0                  0.0                                0.0          0.0           0.0          0.0             0.0            0.0               0.0                     0.0                             0.0   0.0   0.0                                       0.0                      0.0                 0.0             0.0                   0.0                    0.0                        0.0                       0.0                         0.0                       0.0                        0.0         0.0            0.0     0.0     0.0\n",
      "2023-07-02          0.0                    0.0                     0.0                    0.0                          0.0               0.0              0.0                        0.0                       0.0                        0.0                       0.0                      0.0                          0.0                     0.0                    0.0                     0.0                    0.0                       0.0                      0.0                       0.0                    0.0                     0.0                       0.0                      0.0                         0.0                        0.0                    0.0                     0.0                    0.0                   0.0                     0.0                    0.0                     0.0                    0.0                0.0                 0.0                          0.0                         0.0                          0.0                         0.0                      0.0                     0.0                                  0.0                                  0.0                   0.0                              0.0                              0.0                      0.0                     0.0           0.0                         0.0                          0.0                        0.0                   0.0                 0.0                      0.0                     0.0                                                0.0                                                  0.0                                      0.0                                    0.0                          0.0                         0.0                             0.0                            0.0                         0.0                        0.0                         0.0                         0.0                        0.0                             0.0                            0.0                               0.0                              0.0                       0.0                      0.0                         0.0                        0.0                                    0.0                                   0.0                         0.0                        0.0                        0.0                       0.0                                  0.0                                 0.0                             0.0                            0.0                             0.0                            0.0                         0.0                        0.0                                 0.0                                0.0                               0.0                              0.0                                0.0                               0.0                             0.0                            0.0                      0.0                       0.0                  0.0                                     0.0                                     0.0                                      0.0                                     0.0                              0.0                             0.0                        0.0                       0.0         0.0                  0.0                                0.0                               0.0                            0.0                           0.0                      0.0                       0.0                         0.0                           0.0                     0.0                    0.0                  0.0                 0.0                       0.0                      0.0                  0.0                 0.0                    0.0                   0.0                   0.0                  0.0                    0.0                   0.0                    0.0                   0.0                     0.0                        0.0                       0.0                   0.0                  0.0                    0.0                                    0.0                                     0.0                       0.0                           0.0                         0.0                        0.0                         0.0                        0.0                          0.0                        0.0                       0.0                     0.0                       0.0                           0.0                          0.0                     0.0                      0.0                     0.0                      0.0                     0.0                        0.0                       0.0                       0.0                        0.0                     0.0                      0.0                      0.0                          0.0                         0.0                            0.0                             0.0               0.0              0.0                         0.0              0.0               0.0                             0.0                             0.0                              0.0                             0.0                        0.0                         0.0                               0.0                               0.0                                  0.0                                  0.0                         0.0                        0.0                         0.0                        0.0                          0.0                        0.0                       0.0                     0.0                    0.0                       0.0                      0.0                           0.0                          0.0                     0.0                     0.0                      0.0                     0.0                        0.0                       0.0                       0.0                        0.0                     0.0                      0.0                       0.0                      0.0                          0.0                         0.0                   0.0                  0.0                           0.0                          0.0                         0.0                        0.0                         0.0                        0.0                   0.0                    0.0                          0.0                         0.0                        0.0                       0.0                     0.0                    0.0                       0.0                      0.0                           0.0                          0.0                     0.0                    0.0                      0.0                     0.0                      0.0                     0.0                      0.0                     0.0                        0.0                       0.0                        0.0                       0.0                       0.0                      0.0  ...                            0.0                       0.0                      0.0                       0.0            0.0                                 0.0                                  0.0                                 0.0                                  0.0                   0.0          0.0                0.0                                 0.0                                0.0                              0.0                                        0.0                          0.0                         0.0                        0.0                       0.0                  0.0                          0.0                         0.0                        0.0                       0.0                        0.0                  0.0                 0.0                           0.0               0.0                  0.0                    0.0                              0.0                               0.0                   0.0              0.0                 0.0                               0.0                                 0.0                               0.0        0.0                     0.0             0.0                        0.0                       0.0                      0.0                    0.0                   0.0                   0.0                          0.0           0.0                        0.0                       0.0                               0.0                   0.0                     0.0                             0.0                     0.0                  0.0     0.0        0.0          0.0         0.0         0.0                 0.0                    0.0              0.0          0.0          0.0                    0.0                   0.0     0.0                    0.0                     0.0                      0.0           0.0         0.0                  0.0                    0.0                  0.0                 0.0            0.0                  0.0            0.0                                0.0                   0.0                 0.0          0.0                 0.0                       0.0                    0.0                  0.0                             0.0                            0.0                   0.0                  0.0                 0.0           0.0                          0.0                           0.0       0.0                            0.0                              0.0                      0.0                  0.0                   0.0              0.0                                 0.0      0.0              0.0                  0.0                   0.0         0.0             0.0                     0.0                      0.0       0.0                 0.0                            0.0                         0.0                        0.0                                                0.0                                                      0.0            0.0                             0.0                         0.0                           0.0                             0.0                    0.0      0.0                 0.0                  0.0                         0.0                    0.0                               0.0                           0.0                            0.0                           0.0                            0.0         0.0                          0.0                          0.0                          0.0            0.0                      0.0        0.0                        0.0                         0.0                           0.0                            0.0                  0.0                   0.0                       0.0                        0.0          0.0                          0.0                           0.0                  0.0                   0.0                           0.0                            0.0                    0.0                     0.0                  0.0                   0.0                           0.0                            0.0                     0.0                      0.0                      0.0                0.0            0.0                       0.0                        0.0              0.0            0.0                   0.0                     0.0                               0.0                              0.0                 0.0           0.0          0.0                                    0.0                              0.0     0.0               0.0         0.0               0.0    0.0                    0.0                   0.0                0.0                 0.0              0.0                    0.0          0.0           0.0                        0.0                         0.0          0.0           0.0                0.0        0.0           0.0  0.0      0.0           0.0                        0.0                  0.0         0.0                0.0               0.0                     0.0                0.0            0.0            0.0                                  0.0     0.0           0.0                     0.0             0.0                 0.0                  0.0                                0.0          0.0           0.0          0.0             0.0            0.0               0.0                     0.0                             0.0   0.0   0.0                                       0.0                      0.0                 0.0             0.0                   0.0                    0.0                        0.0                       0.0                         0.0                       0.0                        0.0      1059.0            0.0     0.0     0.0\n",
      "2023-07-04          0.0                    0.0                     0.0                    0.0                          0.0               0.0              0.0                        0.0                       0.0                        0.0                       0.0                      0.0                          0.0                     0.0                    0.0                     0.0                    0.0                       0.0                      0.0                       0.0                    0.0                     0.0                       0.0                      0.0                         0.0                        0.0                    0.0                     0.0                    0.0                   0.0                     0.0                    0.0                     0.0                    0.0                0.0                 0.0                          0.0                         0.0                          0.0                         0.0                      0.0                     0.0                                  0.0                                  0.0                   0.0                              0.0                              0.0                      0.0                     0.0           0.0                         0.0                          0.0                        0.0                   0.0                 0.0                      0.0                     0.0                                                0.0                                                  0.0                                      0.0                                    0.0                          0.0                         0.0                             0.0                            0.0                         0.0                        0.0                         0.0                         0.0                        0.0                             0.0                            0.0                               0.0                              0.0                       0.0                      0.0                         0.0                        0.0                                    0.0                                   0.0                         0.0                        0.0                        0.0                       0.0                                  0.0                                 0.0                             0.0                            0.0                             0.0                            0.0                         0.0                        0.0                                 0.0                                0.0                               0.0                              0.0                                0.0                               0.0                             0.0                            0.0                      0.0                       0.0                  0.0                                     0.0                                     0.0                                      0.0                                  1059.0                              0.0                             0.0                        0.0                       0.0         0.0                  0.0                                0.0                               0.0                            0.0                           0.0                      0.0                       0.0                         0.0                           0.0                     0.0                    0.0                  0.0                 0.0                       0.0                      0.0                  0.0                 0.0                    0.0                   0.0                   0.0                  0.0                    0.0                   0.0                    0.0                   0.0                     0.0                        0.0                       0.0                   0.0                  0.0                    0.0                                    0.0                                     0.0                       0.0                           0.0                         0.0                        0.0                         0.0                        0.0                          0.0                        0.0                       0.0                     0.0                       0.0                           0.0                          0.0                     0.0                      0.0                     0.0                      0.0                     0.0                        0.0                       0.0                       0.0                        0.0                     0.0                      0.0                      0.0                          0.0                         0.0                            0.0                             0.0               0.0              0.0                         0.0              0.0               0.0                             0.0                             0.0                              0.0                             0.0                        0.0                         0.0                               0.0                               0.0                                  0.0                                  0.0                         0.0                        0.0                         0.0                        0.0                          0.0                        0.0                       0.0                     0.0                    0.0                       0.0                      0.0                           0.0                          0.0                     0.0                     0.0                      0.0                     0.0                        0.0                       0.0                       0.0                        0.0                     0.0                      0.0                       0.0                      0.0                          0.0                         0.0                   0.0                  0.0                           0.0                          0.0                         0.0                        0.0                         0.0                        0.0                   0.0                    0.0                          0.0                         0.0                        0.0                       0.0                     0.0                    0.0                       0.0                      0.0                           0.0                          0.0                     0.0                    0.0                      0.0                     0.0                      0.0                     0.0                      0.0                     0.0                        0.0                       0.0                        0.0                       0.0                       0.0                      0.0  ...                            0.0                       0.0                      0.0                       0.0            0.0                                 0.0                                  0.0                                 0.0                                  0.0                   0.0          0.0                0.0                                 0.0                                0.0                              0.0                                        0.0                          0.0                         0.0                        0.0                       0.0                  0.0                          0.0                         0.0                        0.0                       0.0                        0.0                  0.0                 0.0                           0.0               0.0                  0.0                    0.0                              0.0                               0.0                   0.0              0.0                 0.0                               0.0                                 0.0                               0.0        0.0                     0.0             0.0                        0.0                       0.0                      0.0                    0.0                   0.0                   0.0                          0.0           0.0                        0.0                       0.0                               0.0                   0.0                     0.0                             0.0                     0.0                  0.0     0.0        0.0          0.0         0.0         0.0                 0.0                    0.0              0.0          0.0          0.0                    0.0                   0.0     0.0                    0.0                     0.0                      0.0           0.0         0.0                  0.0                    0.0                  0.0                 0.0            0.0                  0.0            0.0                                0.0                   0.0                 0.0          0.0                 0.0                       0.0                    0.0                  0.0                             0.0                            0.0                   0.0                  0.0                 0.0           0.0                          0.0                           0.0       0.0                            0.0                              0.0                      0.0                  0.0                   0.0              0.0                                 0.0      0.0              0.0                  0.0                   0.0         0.0             0.0                     0.0                      0.0       0.0                 0.0                            0.0                         0.0                        0.0                                                0.0                                                      0.0            0.0                             0.0                         0.0                           0.0                             0.0                    0.0      0.0                 0.0                  0.0                         0.0                    0.0                               0.0                           0.0                            0.0                           0.0                            0.0         0.0                          0.0                          0.0                          0.0            0.0                      0.0        0.0                        0.0                         0.0                           0.0                            0.0                  0.0                   0.0                       0.0                        0.0          0.0                          0.0                           0.0                  0.0                   0.0                           0.0                            0.0                    0.0                     0.0                  0.0                   0.0                           0.0                            0.0                     0.0                      0.0                      0.0                0.0            0.0                       0.0                        0.0              0.0            0.0                   0.0                     0.0                               0.0                              0.0                 0.0           0.0          0.0                                    0.0                              0.0     0.0               0.0         0.0               0.0    0.0                    0.0                   0.0                0.0                 0.0              0.0                    0.0          0.0           0.0                        0.0                         0.0          0.0           0.0                0.0        0.0           0.0  0.0      0.0           0.0                        0.0                  0.0         0.0                0.0               0.0                     0.0                0.0            0.0            0.0                                  0.0     0.0           0.0                     0.0             0.0                 0.0                  0.0                                0.0          0.0           0.0          0.0             0.0            0.0               0.0                     0.0                             0.0   0.0   0.0                                       0.0                      0.0                 0.0             0.0                   0.0                    0.0                        0.0                       0.0                         0.0                       0.0                        0.0         0.0            0.0     0.0     0.0\n",
      "2023-07-09          0.0                    0.0                     0.0                    0.0                          0.0               0.0              0.0                        0.0                       0.0                        0.0                       0.0                      0.0                          0.0                     0.0                    0.0                     0.0                    0.0                       0.0                      0.0                       0.0                    0.0                     0.0                       0.0                      0.0                         0.0                        0.0                    0.0                     0.0                    0.0                   0.0                     0.0                    0.0                     0.0                    0.0                0.0                 0.0                          0.0                         0.0                          0.0                         0.0                      0.0                     0.0                                  0.0                                  0.0                   0.0                              0.0                              0.0                      0.0                     0.0           0.0                         0.0                          0.0                        0.0                   0.0                 0.0                      0.0                     0.0                                                0.0                                                  0.0                                      0.0                                    0.0                          0.0                         0.0                             0.0                            0.0                         0.0                        0.0                         0.0                         0.0                        0.0                             0.0                            0.0                               0.0                              0.0                       0.0                      0.0                         0.0                        0.0                                    0.0                                   0.0                         0.0                        0.0                        0.0                       0.0                                  0.0                                 0.0                             0.0                            0.0                             0.0                            0.0                         0.0                        0.0                                 0.0                                0.0                               0.0                              0.0                                0.0                               0.0                             0.0                            0.0                      0.0                       0.0                  0.0                                     0.0                                     0.0                                      0.0                                     0.0                              0.0                             0.0                        0.0                       0.0         0.0                  0.0                                0.0                               0.0                            0.0                           0.0                      0.0                       0.0                         0.0                           0.0                     0.0                    0.0                  0.0                 0.0                       0.0                      0.0                  0.0                 0.0                    0.0                   0.0                   0.0                  0.0                    0.0                   0.0                    0.0                   0.0                     0.0                        0.0                       0.0                   0.0                  0.0                    0.0                                    0.0                                     0.0                       0.0                           0.0                         0.0                        0.0                         0.0                        0.0                          0.0                        0.0                       0.0                     0.0                       0.0                           0.0                          0.0                     0.0                      0.0                     0.0                      0.0                     0.0                        0.0                       0.0                       0.0                        0.0                     0.0                      0.0                      0.0                          0.0                         0.0                            0.0                             0.0               0.0              0.0                         0.0              0.0               0.0                             0.0                             0.0                              0.0                             0.0                        0.0                         0.0                               0.0                               0.0                                  0.0                                  0.0                         0.0                        0.0                         0.0                        0.0                          0.0                        0.0                       0.0                     0.0                    0.0                       0.0                      0.0                           0.0                          0.0                     0.0                     0.0                      0.0                     0.0                        0.0                       0.0                       0.0                        0.0                     0.0                      0.0                       0.0                      0.0                          0.0                         0.0                   0.0                  0.0                           0.0                          0.0                         0.0                        0.0                         0.0                        0.0                   0.0                    0.0                          0.0                         0.0                        0.0                       0.0                     0.0                    0.0                       0.0                      0.0                           0.0                          0.0                     0.0                    0.0                      0.0                     0.0                      0.0                     0.0                      0.0                     0.0                        0.0                       0.0                        0.0                       0.0                       0.0                      0.0  ...                            0.0                       0.0                      0.0                       0.0            0.0                                 0.0                                  0.0                                 0.0                                  0.0                   0.0          0.0                0.0                                 0.0                                0.0                              0.0                                        0.0                          0.0                         0.0                        0.0                       0.0                  0.0                          0.0                         0.0                        0.0                       0.0                        0.0                  0.0                 0.0                           0.0               0.0                  0.0                    0.0                              0.0                               0.0                   0.0              0.0                 0.0                               0.0                                 0.0                               0.0        0.0                     0.0             0.0                        0.0                       0.0                      0.0                    0.0                   0.0                   0.0                          0.0           0.0                        0.0                       0.0                               0.0                   0.0                     0.0                             0.0                     0.0                  0.0     0.0        0.0          0.0         0.0         0.0                 0.0                    0.0              0.0          0.0          0.0                    0.0                   0.0     0.0                    0.0                     0.0                      0.0           0.0         0.0                  0.0                    0.0                  0.0                 0.0            0.0                  0.0            0.0                                0.0                   0.0                 0.0          0.0                 0.0                       0.0                    0.0                  0.0                             0.0                            0.0                   0.0                  0.0                 0.0           0.0                          0.0                           0.0       0.0                            0.0                              0.0                      0.0                  0.0                   0.0              0.0                                 0.0      0.0              0.0                  0.0                   0.0         0.0             0.0                     0.0                      0.0       0.0                 0.0                            0.0                         0.0                        0.0                                                0.0                                                      0.0            0.0                             0.0                         0.0                           0.0                             0.0                    0.0      0.0                 0.0                  0.0                         0.0                    0.0                               0.0                           0.0                            0.0                           0.0                            0.0         0.0                          0.0                          0.0                          0.0            0.0                      0.0        0.0                        0.0                         0.0                           0.0                            0.0                  0.0                   0.0                       0.0                        0.0          0.0                          0.0                           0.0                  0.0                   0.0                           0.0                            0.0                    0.0                     0.0                  0.0                   0.0                           0.0                            0.0                     0.0                      0.0                      0.0                0.0            0.0                       0.0                        0.0              0.0            0.0                   0.0                     0.0                               0.0                              0.0                 0.0           0.0          0.0                                    0.0                              0.0     0.0               0.0         0.0               0.0    0.0                    0.0                   0.0                0.0                 0.0              0.0                    0.0          0.0           0.0                        0.0                         0.0          0.0           0.0                0.0        0.0           0.0  0.0      0.0           0.0                        0.0                  0.0         0.0                0.0               0.0                     0.0                0.0            0.0            0.0                                  0.0     0.0           0.0                     0.0             0.0                 0.0                  0.0                                0.0          0.0           0.0          0.0             0.0            0.0               0.0                     0.0                             0.0   0.0   0.0                                       0.0                      0.0                 0.0             0.0                   0.0                    0.0                        0.0                       0.0                         0.0                       0.0                        0.0         0.0            0.0     0.0     0.0\n",
      "2023-07-11          0.0                    0.0                     0.0                    0.0                          0.0               0.0              0.0                        0.0                       0.0                        0.0                       0.0                      0.0                          0.0                     0.0                    0.0                     0.0                    0.0                       0.0                      0.0                       0.0                    0.0                     0.0                       0.0                      0.0                         0.0                        0.0                    0.0                     0.0                    0.0                   0.0                     0.0                    0.0                     0.0                    0.0                0.0                 0.0                          0.0                         0.0                          0.0                         0.0                      0.0                     0.0                                  0.0                                  0.0                   0.0                              0.0                              0.0                      0.0                     0.0           0.0                         0.0                          0.0                        0.0                   0.0                 0.0                      0.0                     0.0                                                0.0                                                  0.0                                      0.0                                    0.0                          0.0                         0.0                             0.0                            0.0                         0.0                        0.0                         0.0                         0.0                        0.0                             0.0                            0.0                               0.0                              0.0                       0.0                      0.0                         0.0                        0.0                                    0.0                                   0.0                      1059.0                        0.0                        0.0                       0.0                                  0.0                                 0.0                          4236.0                            0.0                             0.0                            0.0                         0.0                        0.0                                 0.0                                0.0                               0.0                              0.0                                0.0                               0.0                             0.0                            0.0                      0.0                       0.0                  0.0                                     0.0                                     0.0                                      0.0                                     0.0                              0.0                             0.0                        0.0                       0.0         0.0                  0.0                                0.0                               0.0                            0.0                           0.0                      0.0                       0.0                         0.0                           0.0                     0.0                    0.0                  0.0                 0.0                       0.0                      0.0                  0.0                 0.0                    0.0                   0.0                   0.0                  0.0                    0.0                   0.0                    0.0                   0.0                     0.0                        0.0                       0.0                   0.0                  0.0                    0.0                                    0.0                                     0.0                       0.0                           0.0                         0.0                        0.0                         0.0                        0.0                          0.0                        0.0                       0.0                     0.0                       0.0                           0.0                          0.0                     0.0                      0.0                     0.0                      0.0                     0.0                        0.0                       0.0                       0.0                        0.0                     0.0                      0.0                      0.0                          0.0                         0.0                            0.0                             0.0               0.0              0.0                         0.0              0.0               0.0                             0.0                             0.0                              0.0                             0.0                        0.0                         0.0                               0.0                               0.0                                  0.0                                  0.0                         0.0                        0.0                         0.0                        0.0                          0.0                        0.0                       0.0                     0.0                    0.0                       0.0                      0.0                           0.0                          0.0                     0.0                     0.0                      0.0                     0.0                        0.0                       0.0                       0.0                        0.0                     0.0                      0.0                       0.0                      0.0                          0.0                         0.0                   0.0                  0.0                           0.0                          0.0                         0.0                        0.0                         0.0                        0.0                   0.0                    0.0                          0.0                         0.0                        0.0                       0.0                     0.0                    0.0                       0.0                      0.0                           0.0                          0.0                     0.0                    0.0                      0.0                     0.0                      0.0                     0.0                      0.0                     0.0                        0.0                       0.0                        0.0                       0.0                       0.0                      0.0  ...                            0.0                       0.0                      0.0                       0.0            0.0                                 0.0                                  0.0                                 0.0                                  0.0                   0.0          0.0                0.0                                 0.0                                0.0                              0.0                                        0.0                          0.0                         0.0                        0.0                       0.0                  0.0                          0.0                         0.0                        0.0                       0.0                        0.0                  0.0                 0.0                           0.0               0.0                  0.0                    0.0                              0.0                               0.0                   0.0              0.0                 0.0                               0.0                                 0.0                               0.0        0.0                     0.0             0.0                        0.0                       0.0                      0.0                    0.0                   0.0                   0.0                          0.0           0.0                        0.0                       0.0                               0.0                   0.0                     0.0                             0.0                     0.0                  0.0     0.0        0.0          0.0         0.0         0.0                 0.0                    0.0              0.0          0.0          0.0                    0.0                   0.0     0.0                    0.0                     0.0                      0.0           0.0         0.0                  0.0                    0.0                  0.0                 0.0            0.0                  0.0            0.0                                0.0                   0.0                 0.0          0.0                 0.0                       0.0                    0.0                  0.0                             0.0                            0.0                   0.0                  0.0                 0.0           0.0                          0.0                           0.0       0.0                            0.0                              0.0                      0.0                  0.0                   0.0              0.0                                 0.0      0.0              0.0                  0.0                   0.0         0.0             0.0                     0.0                      0.0       0.0                 0.0                            0.0                         0.0                        0.0                                                0.0                                                      0.0            0.0                             0.0                         0.0                           0.0                             0.0                    0.0      0.0                 0.0                  0.0                         0.0                    0.0                               0.0                           0.0                            0.0                           0.0                            0.0         0.0                          0.0                          0.0                          0.0            0.0                      0.0        0.0                        0.0                         0.0                           0.0                            0.0                  0.0                   0.0                       0.0                        0.0          0.0                          0.0                           0.0                  0.0                   0.0                           0.0                            0.0                    0.0                     0.0                  0.0                   0.0                           0.0                            0.0                     0.0                      0.0                      0.0                0.0            0.0                       0.0                        0.0              0.0            0.0                   0.0                     0.0                               0.0                              0.0                 0.0           0.0          0.0                                    0.0                              0.0     0.0               0.0         0.0               0.0    0.0                    0.0                   0.0                0.0                 0.0              0.0                    0.0          0.0           0.0                        0.0                         0.0          0.0           0.0                0.0        0.0           0.0  0.0      0.0           0.0                        0.0                  0.0         0.0                0.0               0.0                     0.0                0.0            0.0            0.0                                  0.0     0.0           0.0                     0.0             0.0                 0.0                  0.0                                0.0          0.0           0.0          0.0             0.0            0.0               0.0                     0.0                             0.0   0.0   0.0                                       0.0                      0.0                 0.0             0.0                   0.0                    0.0                        0.0                       0.0                         0.0                       0.0                        0.0         0.0            0.0     0.0     0.0\n",
      "2023-07-14          0.0                    0.0                     0.0                    0.0                          0.0               0.0              0.0                        0.0                       0.0                        0.0                       0.0                      0.0                          0.0                     0.0                    0.0                     0.0                    0.0                       0.0                      0.0                       0.0                    0.0                     0.0                       0.0                      0.0                         0.0                        0.0                    0.0                     0.0                    0.0                   0.0                     0.0                    0.0                     0.0                    0.0                0.0                 0.0                          0.0                         0.0                          0.0                         0.0                      0.0                     0.0                                  0.0                                  0.0                   0.0                              0.0                              0.0                      0.0                     0.0           0.0                         0.0                          0.0                        0.0                   0.0                 0.0                      0.0                     0.0                                                0.0                                                  0.0                                      0.0                                    0.0                          0.0                         0.0                             0.0                            0.0                         0.0                        0.0                         0.0                         0.0                        0.0                             0.0                            0.0                               0.0                              0.0                       0.0                      0.0                         0.0                        0.0                                    0.0                                   0.0                         0.0                        0.0                        0.0                       0.0                                  0.0                                 0.0                             0.0                            0.0                             0.0                            0.0                         0.0                        0.0                                 0.0                                0.0                               0.0                              0.0                                0.0                               0.0                             0.0                            0.0                      0.0                       0.0                  0.0                                     0.0                                     0.0                                      0.0                                     0.0                              0.0                             0.0                        0.0                       0.0         0.0                  0.0                                0.0                               0.0                            0.0                           0.0                      0.0                       0.0                         0.0                           0.0                     0.0                    0.0                  0.0                 0.0                       0.0                      0.0                  0.0                 0.0                    0.0                   0.0                   0.0                  0.0                    0.0                   0.0                    0.0                   0.0                     0.0                        0.0                       0.0                   0.0                  0.0                    0.0                                    0.0                                     0.0                       0.0                           0.0                         0.0                        0.0                         0.0                        0.0                          0.0                        0.0                       0.0                     0.0                       0.0                           0.0                          0.0                     0.0                      0.0                     0.0                      0.0                     0.0                        0.0                       0.0                       0.0                        0.0                     0.0                      0.0                      0.0                          0.0                         0.0                            0.0                             0.0               0.0              0.0                         0.0              0.0               0.0                             0.0                             0.0                              0.0                             0.0                        0.0                         0.0                               0.0                               0.0                                  0.0                                  0.0                         0.0                        0.0                         0.0                        0.0                          0.0                        0.0                       0.0                     0.0                    0.0                       0.0                      0.0                           0.0                          0.0                     0.0                     0.0                      0.0                     0.0                        0.0                       0.0                       0.0                        0.0                     0.0                      0.0                       0.0                      0.0                          0.0                         0.0                   0.0                  0.0                           0.0                          0.0                         0.0                        0.0                         0.0                        0.0                   0.0                    0.0                          0.0                         0.0                        0.0                       0.0                     0.0                    0.0                       0.0                      0.0                           0.0                          0.0                     0.0                    0.0                      0.0                     0.0                      0.0                     0.0                      0.0                     0.0                        0.0                       0.0                        0.0                       0.0                       0.0                      0.0  ...                            0.0                       0.0                      0.0                       0.0            0.0                                 0.0                                  0.0                                 0.0                                  0.0                   0.0          0.0                0.0                                 0.0                                0.0                              0.0                                        0.0                          0.0                         0.0                        0.0                       0.0                  0.0                          0.0                         0.0                        0.0                       0.0                        0.0                  0.0                 0.0                           0.0               0.0                  0.0                    0.0                              0.0                               0.0                   0.0              0.0                 0.0                               0.0                                 0.0                               0.0        0.0                     0.0             0.0                        0.0                       0.0                      0.0                    0.0                   0.0                   0.0                          0.0           0.0                        0.0                       0.0                               0.0                   0.0                     0.0                             0.0                     0.0                  0.0     0.0        0.0          0.0         0.0         0.0                 0.0                    0.0              0.0          0.0          0.0                    0.0                   0.0     0.0                    0.0                     0.0                      0.0           0.0         0.0                  0.0                    0.0                  0.0                 0.0            0.0                  0.0            0.0                                0.0                   0.0                 0.0          0.0                 0.0                       0.0                    0.0                  0.0                             0.0                            0.0                   0.0                  0.0                 0.0           0.0                          0.0                           0.0       0.0                            0.0                              0.0                      0.0                  0.0                   0.0              0.0                                 0.0      0.0              0.0                  0.0                   0.0         0.0             0.0                     0.0                      0.0       0.0                 0.0                            0.0                         0.0                        0.0                                                0.0                                                      0.0            0.0                             0.0                         0.0                           0.0                             0.0                    0.0      0.0                 0.0                  0.0                         0.0                    0.0                               0.0                           0.0                            0.0                           0.0                            0.0         0.0                          0.0                          0.0                          0.0            0.0                   1059.0        0.0                        0.0                         0.0                           0.0                            0.0                  0.0                   0.0                       0.0                        0.0          0.0                          0.0                           0.0                  0.0                   0.0                           0.0                            0.0                    0.0                     0.0                  0.0                   0.0                           0.0                            0.0                     0.0                      0.0                      0.0                0.0            0.0                       0.0                        0.0              0.0            0.0                   0.0                     0.0                               0.0                              0.0                 0.0           0.0          0.0                                    0.0                              0.0     0.0               0.0         0.0               0.0    0.0                    0.0                   0.0                0.0                 0.0              0.0                    0.0          0.0           0.0                        0.0                         0.0          0.0           0.0                0.0        0.0           0.0  0.0      0.0           0.0                        0.0                  0.0         0.0                0.0               0.0                     0.0                0.0            0.0            0.0                                  0.0     0.0           0.0                     0.0             0.0                 0.0                  0.0                                0.0          0.0           0.0          0.0             0.0            0.0               0.0                     0.0                             0.0   0.0   0.0                                       0.0                      0.0                 0.0             0.0                   0.0                    0.0                        0.0                       0.0                         0.0                       0.0                        0.0         0.0            0.0     0.0     0.0\n",
      "2023-07-15          0.0                    0.0                     0.0                    0.0                          0.0               0.0              0.0                        0.0                       0.0                        0.0                       0.0                      0.0                          0.0                     0.0                    0.0                     0.0                    0.0                       0.0                      0.0                       0.0                    0.0                     0.0                       0.0                      0.0                         0.0                        0.0                    0.0                     0.0                    0.0                   0.0                     0.0                    0.0                     0.0                    0.0                0.0                 0.0                          0.0                         0.0                          0.0                         0.0                      0.0                     0.0                                  0.0                                  0.0                   0.0                              0.0                              0.0                      0.0                     0.0           0.0                         0.0                          0.0                        0.0                   0.0                 0.0                      0.0                     0.0                                                0.0                                                  0.0                                      0.0                                    0.0                          0.0                         0.0                             0.0                            0.0                         0.0                        0.0                         0.0                         0.0                        0.0                             0.0                            0.0                               0.0                              0.0                       0.0                      0.0                         0.0                        0.0                                    0.0                                   0.0                      1059.0                        0.0                        0.0                       0.0                                  0.0                                 0.0                             0.0                            0.0                             0.0                            0.0                         0.0                        0.0                                 0.0                                0.0                               0.0                              0.0                                0.0                               0.0                             0.0                            0.0                      0.0                       0.0                  0.0                                     0.0                                     0.0                                      0.0                                     0.0                           1059.0                             0.0                        0.0                       0.0         0.0                  0.0                                0.0                               0.0                            0.0                           0.0                      0.0                       0.0                         0.0                           0.0                     0.0                    0.0                  0.0                 0.0                       0.0                      0.0                  0.0                 0.0                    0.0                   0.0                   0.0                  0.0                    0.0                   0.0                    0.0                   0.0                     0.0                        0.0                       0.0                   0.0                  0.0                    0.0                                    0.0                                     0.0                       0.0                           0.0                         0.0                        0.0                         0.0                        0.0                          0.0                        0.0                       0.0                     0.0                       0.0                           0.0                          0.0                     0.0                      0.0                     0.0                      0.0                     0.0                        0.0                       0.0                       0.0                        0.0                     0.0                      0.0                      0.0                          0.0                         0.0                            0.0                             0.0               0.0              0.0                         0.0              0.0               0.0                             0.0                             0.0                              0.0                             0.0                        0.0                         0.0                               0.0                               0.0                                  0.0                                  0.0                         0.0                        0.0                         0.0                        0.0                          0.0                        0.0                       0.0                     0.0                    0.0                       0.0                      0.0                           0.0                          0.0                     0.0                     0.0                      0.0                     0.0                        0.0                       0.0                       0.0                        0.0                     0.0                      0.0                       0.0                      0.0                          0.0                         0.0                   0.0                  0.0                           0.0                          0.0                      1059.0                        0.0                         0.0                        0.0                   0.0                    0.0                          0.0                         0.0                        0.0                       0.0                     0.0                    0.0                       0.0                      0.0                        1059.0                          0.0                     0.0                    0.0                      0.0                     0.0                      0.0                     0.0                      0.0                     0.0                        0.0                       0.0                        0.0                       0.0                       0.0                      0.0  ...                            0.0                       0.0                      0.0                       0.0            0.0                                 0.0                                  0.0                                 0.0                                  0.0                   0.0          0.0                0.0                                 0.0                                0.0                              0.0                                        0.0                          0.0                         0.0                        0.0                       0.0                  0.0                          0.0                         0.0                        0.0                       0.0                        0.0                  0.0                 0.0                           0.0               0.0                  0.0                    0.0                              0.0                               0.0                   0.0              0.0                 0.0                               0.0                                 0.0                               0.0        0.0                     0.0             0.0                        0.0                       0.0                      0.0                    0.0                   0.0                   0.0                          0.0           0.0                        0.0                       0.0                               0.0                   0.0                     0.0                             0.0                     0.0                  0.0     0.0        0.0          0.0         0.0         0.0                 0.0                    0.0              0.0          0.0          0.0                    0.0                   0.0     0.0                    0.0                     0.0                      0.0           0.0         0.0                  0.0                    0.0                  0.0                 0.0            0.0                  0.0            0.0                                0.0                   0.0                 0.0          0.0                 0.0                       0.0                    0.0                  0.0                             0.0                            0.0                   0.0                  0.0                 0.0           0.0                          0.0                           0.0       0.0                            0.0                              0.0                      0.0                  0.0                   0.0              0.0                                 0.0      0.0              0.0                  0.0                   0.0         0.0             0.0                     0.0                      0.0       0.0                 0.0                            0.0                         0.0                        0.0                                                0.0                                                      0.0            0.0                             0.0                         0.0                           0.0                             0.0                    0.0      0.0                 0.0                  0.0                         0.0                    0.0                               0.0                           0.0                            0.0                           0.0                            0.0         0.0                          0.0                          0.0                       1059.0            0.0                      0.0        0.0                        0.0                         0.0                           0.0                            0.0                  0.0                   0.0                       0.0                        0.0          0.0                          0.0                           0.0                  0.0                   0.0                           0.0                            0.0                    0.0                     0.0                  0.0                   0.0                           0.0                         1059.0                     0.0                      0.0                      0.0                0.0            0.0                       0.0                     2118.0              0.0            0.0                   0.0                     0.0                               0.0                              0.0                 0.0           0.0          0.0                                    0.0                              0.0     0.0               0.0         0.0               0.0    0.0                    0.0                   0.0                0.0                 0.0              0.0                    0.0          0.0           0.0                        0.0                         0.0          0.0           0.0                0.0        0.0           0.0  0.0      0.0           0.0                        0.0                  0.0         0.0                0.0               0.0                     0.0                0.0            0.0            0.0                                  0.0     0.0           0.0                     0.0             0.0                 0.0                  0.0                                0.0          0.0           0.0          0.0             0.0            0.0               0.0                     0.0                             0.0   0.0   0.0                                       0.0                      0.0                 0.0             0.0                   0.0                 1059.0                        0.0                       0.0                         0.0                       0.0                        0.0         0.0            0.0     0.0     0.0\n",
      "\n",
      "[10 rows x 722 columns]\n"
     ]
    }
   ],
   "source": [
    "print(df_pivoted_quantity.head(10))"
   ]
  }
 ],
 "metadata": {
  "kernelspec": {
   "display_name": "Python 3",
   "language": "python",
   "name": "python3"
  },
  "language_info": {
   "codemirror_mode": {
    "name": "ipython",
    "version": 3
   },
   "file_extension": ".py",
   "mimetype": "text/x-python",
   "name": "python",
   "nbconvert_exporter": "python",
   "pygments_lexer": "ipython3",
   "version": "3.11.13"
  }
 },
 "nbformat": 4,
 "nbformat_minor": 5
}
